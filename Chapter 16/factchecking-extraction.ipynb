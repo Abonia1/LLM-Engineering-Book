{
 "cells": [
  {
   "cell_type": "code",
   "execution_count": null,
   "metadata": {},
   "outputs": [],
   "source": [
    "\n",
    "from langchain.prompts import PromptTemplate\n",
    "from langchain.chains import SimpleSequentialChain\n",
    "from langchain_community.llms import Ollama\n",
    "\n",
    "q = \"What type of mammal lays the biggest eggs?\"\n",
    "\n",
    "#llm = OpenAI(temperature=0.7)\n",
    "llm = Ollama(model=\"mistral\")\n",
    "template = \"\"\"{question}\\n\\n\"\"\"\n",
    "prompt_template = PromptTemplate(input_variables=[\"question\"], template=template)\n",
    "question_chain = LLMChain(llm=llm, prompt=prompt_template)\n",
    "\n",
    "template = \"\"\"Here is a statement:\n",
    "{statement}\n",
    "Make a bullet point list of the assumptions you made when producing the above statement.\\n\\n\"\"\"\n",
    "prompt_template = PromptTemplate(input_variables=[\"statement\"], template=template)\n",
    "assumptions_chain = LLMChain(llm=llm, prompt=prompt_template)\n",
    "\n",
    "template = \"\"\"Here is a bullet point list of assertions:\n",
    "{assertions}\n",
    "For each assertion, determine whether it is true or false. If it is false, explain why.\\n\\n\"\"\"\n",
    "prompt_template = PromptTemplate(input_variables=[\"assertions\"], template=template)\n",
    "fact_checker_chain = LLMChain(llm=llm, prompt=prompt_template)\n",
    "\n",
    "template = \"\"\"In light of the above facts, how would you answer the question '{}'\"\"\".format(q)\n",
    "template = \"\"\"{facts}\\n\"\"\" + template\n",
    "prompt_template = PromptTemplate(input_variables=[\"facts\"], template=template)\n",
    "answer_chain = LLMChain(llm=llm, prompt=prompt_template)\n",
    "\n",
    "overall_chain = SimpleSequentialChain(chains=[question_chain, assumptions_chain, fact_checker_chain, answer_chain], verbose=True)\n",
    "\n",
    "print(q)\n",
    "overall_chain.run(q)\n"
   ]
  },
  {
   "cell_type": "code",
   "execution_count": null,
   "metadata": {},
   "outputs": [],
   "source": []
  }
 ],
 "metadata": {
  "kernelspec": {
   "display_name": "base",
   "language": "python",
   "name": "python3"
  },
  "language_info": {
   "codemirror_mode": {
    "name": "ipython",
    "version": 3
   },
   "file_extension": ".py",
   "mimetype": "text/x-python",
   "name": "python",
   "nbconvert_exporter": "python",
   "pygments_lexer": "ipython3",
   "version": "3.11.8"
  }
 },
 "nbformat": 4,
 "nbformat_minor": 2
}
