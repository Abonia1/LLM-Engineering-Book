{
 "cells": [
  {
   "cell_type": "code",
   "execution_count": 1,
   "metadata": {},
   "outputs": [
    {
     "name": "stdout",
     "output_type": "stream",
     "text": [
      "Mean Average Precision (MAP): 0.5966666666666667\n"
     ]
    }
   ],
   "source": [
    "def average_precision(relevant_positions):\n",
    "    \"\"\"\n",
    "    Calculate Average Precision (AP) for a single query.\n",
    "    \n",
    "    :param relevant_positions: A list of positions of relevant items for a single query.\n",
    "    :return: Average Precision for the query.\n",
    "    \"\"\"\n",
    "    if not relevant_positions:\n",
    "        return 0.0\n",
    "    precision_sum = 0.0\n",
    "    num_hits = 0.0\n",
    "    for rank, is_relevant in enumerate(relevant_positions, start=1):\n",
    "        if is_relevant:\n",
    "            num_hits += 1\n",
    "            precision_sum += num_hits / rank\n",
    "    return precision_sum / len(relevant_positions)\n",
    "\n",
    "def mean_average_precision(queries):\n",
    "    \"\"\"\n",
    "    Calculate Mean Average Precision (MAP) for a set of queries.\n",
    "    \n",
    "    :param queries: A dictionary where each key is a query ID and the value is a list of booleans indicating whether each item is relevant.\n",
    "    :return: MAP score.\n",
    "    \"\"\"\n",
    "    map_sum = 0.0\n",
    "    num_queries = 0.0\n",
    "    for query_id, relevant_positions in queries.items():\n",
    "        map_sum += average_precision(relevant_positions)\n",
    "        num_queries += 1\n",
    "    return map_sum / num_queries\n",
    "\n",
    "# Example usage\n",
    "queries = {\n",
    "    \"query1\": [True, True, False, True, False], # Relevant items at positions 1, 2, and 4\n",
    "    \"query2\": [True, False, True, True, True], # Relevant items at positions 1, 3, 4, and 5\n",
    "    # Add more queries as needed\n",
    "}\n",
    "\n",
    "map_score = mean_average_precision(queries)\n",
    "print(f\"Mean Average Precision (MAP): {map_score}\")\n"
   ]
  },
  {
   "cell_type": "code",
   "execution_count": 2,
   "metadata": {},
   "outputs": [
    {
     "name": "stdout",
     "output_type": "stream",
     "text": [
      "Mean Reciprocal Rank (MRR): 0.611111111111111\n"
     ]
    }
   ],
   "source": [
    "def mrr(ranks):\n",
    "    \"\"\"\n",
    "    Calculate Mean Reciprocal Rank (MRR) for a list of ranks.\n",
    "    \n",
    "    :param ranks: A list of ranks for relevant items.\n",
    "    :return: MRR score.\n",
    "    \"\"\"\n",
    "    reciprocal_ranks = [1.0 / rank for rank in ranks if rank > 0]\n",
    "    return sum(reciprocal_ranks) / len(reciprocal_ranks)\n",
    "\n",
    "# Example usage\n",
    "ranks = [3, 1, 2] # Relevant items at positions 1, 2, and 3\n",
    "mrr_score = mrr(ranks)\n",
    "print(f\"Mean Reciprocal Rank (MRR): {mrr_score}\")\n"
   ]
  },
  {
   "cell_type": "code",
   "execution_count": 3,
   "metadata": {},
   "outputs": [
    {
     "name": "stdout",
     "output_type": "stream",
     "text": [
      "Mean Reciprocal Rank (MRR): 0.611111111111111\n"
     ]
    }
   ],
   "source": [
    "def mrr(recommendations):\n",
    "    \"\"\"\n",
    "    Calculate Mean Reciprocal Rank (MRR) for a list of recommendations.\n",
    "    \n",
    "    :param recommendations: A list of lists, where each sublist contains the positions of relevant items for a query.\n",
    "    :return: MRR score.\n",
    "    \"\"\"\n",
    "    reciprocal_ranks = []\n",
    "    for positions in recommendations:\n",
    "        if positions: # Check if there's at least one relevant item\n",
    "            first_relevant_position = positions[0]\n",
    "            reciprocal_ranks.append(1.0 / first_relevant_position)\n",
    "    return sum(reciprocal_ranks) / len(reciprocal_ranks) if reciprocal_ranks else 0.0\n",
    "\n",
    "# Example usage\n",
    "recommendations = [\n",
    "    [3, 1, 2, 4], # Query 1: Relevant items at positions 1, 2, and 3\n",
    "    [2, 4, 1, 3], # Query 2: Relevant items at positions 1, 2, and 4\n",
    "    [1, 3, 4, 2], # Query 3: Relevant items at positions 1, 3, and 4\n",
    "]\n",
    "\n",
    "mrr_score = mrr(recommendations)\n",
    "print(f\"Mean Reciprocal Rank (MRR): {mrr_score}\")\n"
   ]
  },
  {
   "cell_type": "code",
   "execution_count": 4,
   "metadata": {},
   "outputs": [
    {
     "name": "stdout",
     "output_type": "stream",
     "text": [
      "Mean Average Precision (MAP): 1.0\n"
     ]
    }
   ],
   "source": [
    "def average_precision(relevant_positions):\n",
    "    \"\"\"\n",
    "    Calculate Average Precision (AP) for a single query.\n",
    "    \n",
    "    :param relevant_positions: A list of positions of relevant items for a single query.\n",
    "    :return: Average Precision for the query.\n",
    "    \"\"\"\n",
    "    if not relevant_positions:\n",
    "        return 0.0\n",
    "    precision_sum = 0.0\n",
    "    num_hits = 0.0\n",
    "    for rank, is_relevant in enumerate(relevant_positions, start=1):\n",
    "        if is_relevant:\n",
    "            num_hits += 1\n",
    "            precision_sum += num_hits / rank\n",
    "    return precision_sum / len(relevant_positions)\n",
    "\n",
    "def mean_average_precision(recommendations):\n",
    "    \"\"\"\n",
    "    Calculate Mean Average Precision (MAP) for a list of recommendations.\n",
    "    \n",
    "    :param recommendations: A list of lists, where each sublist contains the positions of relevant items for a query.\n",
    "    :return: MAP score.\n",
    "    \"\"\"\n",
    "    map_sum = 0.0\n",
    "    num_queries = 0.0\n",
    "    for positions in recommendations:\n",
    "        map_sum += average_precision(positions)\n",
    "        num_queries += 1\n",
    "    return map_sum / num_queries if num_queries else 0.0\n",
    "\n",
    "# Example usage\n",
    "recommendations = [\n",
    "    [3, 1, 2, 4], # Query 1: Relevant items at positions 1, 2, and 3\n",
    "    [2, 4, 1, 3], # Query 2: Relevant items at positions 1, 2, and 4\n",
    "    [1, 3, 4, 2], # Query 3: Relevant items at positions 1, 3, and 4\n",
    "]\n",
    "\n",
    "map_score = mean_average_precision(recommendations)\n",
    "print(f\"Mean Average Precision (MAP): {map_score}\")\n"
   ]
  },
  {
   "cell_type": "code",
   "execution_count": 5,
   "metadata": {},
   "outputs": [
    {
     "name": "stdout",
     "output_type": "stream",
     "text": [
      "query #1 = 1/2 = 0.5\n",
      "query #2 = 1/1 = 1.0\n",
      "query #3 = 1/5 = 0.2\n",
      "MRR = 0.57\n"
     ]
    }
   ],
   "source": [
    "# Relevant results for query #1, #2, and #3\n",
    "actual_relevant = [\n",
    "    [2, 4, 5, 7],\n",
    "    [1, 4, 5, 7],\n",
    "    [5, 8]\n",
    "]\n",
    "\n",
    "# Number of queries\n",
    "Q = len(actual_relevant)\n",
    "\n",
    "# Calculate the reciprocal of the first actual relevant rank\n",
    "cumulative_reciprocal = 0\n",
    "for i in range(Q):\n",
    "    first_result = actual_relevant[i][0]\n",
    "    reciprocal = 1 / first_result\n",
    "    cumulative_reciprocal += reciprocal\n",
    "    print(f\"query #{i+1} = 1/{first_result} = {reciprocal}\")\n",
    "\n",
    "# Calculate MRR\n",
    "mrr = 1/Q * cumulative_reciprocal\n",
    "\n",
    "# Generate results\n",
    "print(\"MRR =\", round(mrr, 2))\n"
   ]
  },
  {
   "cell_type": "code",
   "execution_count": 6,
   "metadata": {},
   "outputs": [
    {
     "name": "stdout",
     "output_type": "stream",
     "text": [
      "Mean Average Precision (MAP): 1.0\n"
     ]
    }
   ],
   "source": [
    "def average_precision(relevant_positions):\n",
    "    \"\"\"\n",
    "    Calculate Average Precision (AP) for a single query.\n",
    "    \n",
    "    :param relevant_positions: A list of positions of relevant items for a single query.\n",
    "    :return: Average Precision for the query.\n",
    "    \"\"\"\n",
    "    if not relevant_positions:\n",
    "        return 0.0\n",
    "    precision_sum = 0.0\n",
    "    num_hits = 0.0\n",
    "    for rank, is_relevant in enumerate(relevant_positions, start=1):\n",
    "        if is_relevant:\n",
    "            num_hits += 1\n",
    "            precision_sum += num_hits / rank\n",
    "    return precision_sum / len(relevant_positions)\n",
    "\n",
    "def mean_average_precision(recommendations):\n",
    "    \"\"\"\n",
    "    Calculate Mean Average Precision (MAP) for a list of recommendations.\n",
    "    \n",
    "    :param recommendations: A list of lists, where each sublist contains the positions of relevant items for a query.\n",
    "    :return: MAP score.\n",
    "    \"\"\"\n",
    "    map_sum = 0.0\n",
    "    num_queries = 0.0\n",
    "    for positions in recommendations:\n",
    "        map_sum += average_precision(positions)\n",
    "        num_queries += 1\n",
    "    return map_sum / num_queries if num_queries else 0.0\n",
    "\n",
    "# Example usage\n",
    "recommendations = [\n",
    "    [3, 1, 2, 4], # Query 1: Relevant items at positions 1, 2, and 3\n",
    "    [2, 4, 1, 3], # Query 2: Relevant items at positions 1, 2, and 4\n",
    "    [1, 3, 4, 2], # Query 3: Relevant items at positions 1, 3, and 4\n",
    "]\n",
    "\n",
    "map_score = mean_average_precision(recommendations)\n",
    "print(f\"Mean Average Precision (MAP): {map_score}\")\n"
   ]
  },
  {
   "cell_type": "code",
   "execution_count": 7,
   "metadata": {},
   "outputs": [
    {
     "name": "stdout",
     "output_type": "stream",
     "text": [
      "Collecting rank-eval\n",
      "  Downloading rank_eval-0.1.3-py3-none-any.whl.metadata (6.8 kB)\n",
      "Requirement already satisfied: numpy in /Users/aboniasojasingarayar/miniconda3/lib/python3.11/site-packages (from rank-eval) (1.26.4)\n",
      "Collecting numba>=0.54.1 (from rank-eval)\n",
      "  Downloading numba-0.59.0-cp311-cp311-macosx_11_0_arm64.whl.metadata (2.7 kB)\n",
      "Requirement already satisfied: pandas in /Users/aboniasojasingarayar/miniconda3/lib/python3.11/site-packages (from rank-eval) (2.2.1)\n",
      "Collecting tabulate (from rank-eval)\n",
      "  Downloading tabulate-0.9.0-py3-none-any.whl.metadata (34 kB)\n",
      "Requirement already satisfied: tqdm in /Users/aboniasojasingarayar/miniconda3/lib/python3.11/site-packages (from rank-eval) (4.65.0)\n",
      "Collecting llvmlite<0.43,>=0.42.0dev0 (from numba>=0.54.1->rank-eval)\n",
      "  Downloading llvmlite-0.42.0-cp311-cp311-macosx_11_0_arm64.whl.metadata (4.8 kB)\n",
      "Requirement already satisfied: python-dateutil>=2.8.2 in /Users/aboniasojasingarayar/miniconda3/lib/python3.11/site-packages (from pandas->rank-eval) (2.8.2)\n",
      "Requirement already satisfied: pytz>=2020.1 in /Users/aboniasojasingarayar/miniconda3/lib/python3.11/site-packages (from pandas->rank-eval) (2024.1)\n",
      "Requirement already satisfied: tzdata>=2022.7 in /Users/aboniasojasingarayar/miniconda3/lib/python3.11/site-packages (from pandas->rank-eval) (2024.1)\n",
      "Requirement already satisfied: six>=1.5 in /Users/aboniasojasingarayar/miniconda3/lib/python3.11/site-packages (from python-dateutil>=2.8.2->pandas->rank-eval) (1.16.0)\n",
      "Downloading rank_eval-0.1.3-py3-none-any.whl (17 kB)\n",
      "Downloading numba-0.59.0-cp311-cp311-macosx_11_0_arm64.whl (2.6 MB)\n",
      "\u001b[2K   \u001b[90m━━━━━━━━━━━━━━━━━━━━━━━━━━━━━━━━━━━━━━━━\u001b[0m \u001b[32m2.6/2.6 MB\u001b[0m \u001b[31m41.2 MB/s\u001b[0m eta \u001b[36m0:00:00\u001b[0ma \u001b[36m0:00:01\u001b[0m\n",
      "\u001b[?25hDownloading tabulate-0.9.0-py3-none-any.whl (35 kB)\n",
      "Downloading llvmlite-0.42.0-cp311-cp311-macosx_11_0_arm64.whl (28.8 MB)\n",
      "\u001b[2K   \u001b[90m━━━━━━━━━━━━━━━━━━━━━━━━━━━━━━━━━━━━━━━━\u001b[0m \u001b[32m28.8/28.8 MB\u001b[0m \u001b[31m55.2 MB/s\u001b[0m eta \u001b[36m0:00:00\u001b[0m00:01\u001b[0m00:01\u001b[0m\n",
      "\u001b[?25hInstalling collected packages: tabulate, llvmlite, numba, rank-eval\n",
      "Successfully installed llvmlite-0.42.0 numba-0.59.0 rank-eval-0.1.3 tabulate-0.9.0\n",
      "Note: you may need to restart the kernel to use updated packages.\n"
     ]
    }
   ],
   "source": [
    "pip install rank-eval\n"
   ]
  },
  {
   "cell_type": "code",
   "execution_count": 11,
   "metadata": {},
   "outputs": [],
   "source": [
    "from rank_eval import Qrels, Run, evaluate\n",
    "\n",
    "qrels = Qrels()\n",
    "qrels.add_multi(\n",
    "    q_ids=[\"q_1\", \"q_2\"],\n",
    "    doc_ids=[\n",
    "        [\"doc_12\", \"doc_25\"],  # q_1 relevant documents\n",
    "        [\"doc_11\", \"doc_2\"],  # q_2 relevant documents\n",
    "    ],\n",
    "    scores=[\n",
    "        [5, 3],  # q_1 relevance judgements\n",
    "        [6, 1],  # q_2 relevance judgements\n",
    "    ],\n",
    ")\n",
    "\n",
    "run = Run()\n",
    "run.add_multi(\n",
    "    q_ids=[\"q_1\", \"q_2\"],\n",
    "    doc_ids=[\n",
    "        [\"doc_12\", \"doc_23\", \"doc_25\", \"doc_36\", \"doc_32\", \"doc_35\"],\n",
    "        [\"doc_12\", \"doc_11\", \"doc_25\", \"doc_36\", \"doc_2\",  \"doc_35\"],\n",
    "    ],\n",
    "    scores=[\n",
    "        [0.9, 0.8, 0.7, 0.6, 0.5, 0.4],\n",
    "        [0.9, 0.8, 0.7, 0.6, 0.5, 0.4],\n",
    "    ],\n",
    ")"
   ]
  },
  {
   "cell_type": "code",
   "execution_count": 12,
   "metadata": {},
   "outputs": [
    {
     "data": {
      "text/plain": [
       "0.7861261099276952"
      ]
     },
     "execution_count": 12,
     "metadata": {},
     "output_type": "execute_result"
    }
   ],
   "source": [
    "# Compute score for a single metric\n",
    "evaluate(qrels, run, \"ndcg@5\")"
   ]
  },
  {
   "cell_type": "code",
   "execution_count": 13,
   "metadata": {},
   "outputs": [
    {
     "data": {
      "text/plain": [
       "{'map@5': 0.6416666666666666, 'mrr': 0.75}"
      ]
     },
     "execution_count": 13,
     "metadata": {},
     "output_type": "execute_result"
    }
   ],
   "source": [
    "# Compute scores for multiple metrics at once\n",
    "evaluate(qrels, run, [\"map@5\", \"mrr\"])"
   ]
  },
  {
   "cell_type": "code",
   "execution_count": 14,
   "metadata": {},
   "outputs": [
    {
     "data": {
      "text/plain": [
       "{'ndcg@5': 0.7861261099276952, 'map@5': 0.6416666666666666, 'mrr': 0.75}"
      ]
     },
     "execution_count": 14,
     "metadata": {},
     "output_type": "execute_result"
    }
   ],
   "source": [
    "# Computed metric scores are saved in the Run object\n",
    "run.mean_scores"
   ]
  },
  {
   "cell_type": "code",
   "execution_count": 15,
   "metadata": {},
   "outputs": [
    {
     "data": {
      "text/plain": [
       "{'ndcg@5': {'q_1': 0.9430144683295216, 'q_2': 0.6292377515258687},\n",
       " 'map@5': {'q_1': 0.8333333333333333, 'q_2': 0.45},\n",
       " 'mrr': {'q_1': 1.0, 'q_2': 0.5}}"
      ]
     },
     "execution_count": 15,
     "metadata": {},
     "output_type": "execute_result"
    }
   ],
   "source": [
    "\n",
    "# Access scores for each query\n",
    "dict(run.scores)"
   ]
  },
  {
   "cell_type": "code",
   "execution_count": 18,
   "metadata": {},
   "outputs": [
    {
     "name": "stdout",
     "output_type": "stream",
     "text": [
      "Collecting FlagEmbedding\n",
      "  Downloading FlagEmbedding-1.2.5.tar.gz (37 kB)\n",
      "  Preparing metadata (setup.py) ... \u001b[?25ldone\n",
      "\u001b[?25hRequirement already satisfied: torch>=1.6.0 in /Users/aboniasojasingarayar/miniconda3/lib/python3.11/site-packages (from FlagEmbedding) (2.2.1)\n",
      "Requirement already satisfied: transformers>=4.33.0 in /Users/aboniasojasingarayar/miniconda3/lib/python3.11/site-packages (from FlagEmbedding) (4.38.1)\n",
      "Collecting datasets (from FlagEmbedding)\n",
      "  Downloading datasets-2.18.0-py3-none-any.whl.metadata (20 kB)\n",
      "Collecting accelerate>=0.20.1 (from FlagEmbedding)\n",
      "  Downloading accelerate-0.27.2-py3-none-any.whl.metadata (18 kB)\n",
      "Requirement already satisfied: sentence_transformers in /Users/aboniasojasingarayar/miniconda3/lib/python3.11/site-packages (from FlagEmbedding) (2.4.0)\n",
      "Requirement already satisfied: numpy>=1.17 in /Users/aboniasojasingarayar/miniconda3/lib/python3.11/site-packages (from accelerate>=0.20.1->FlagEmbedding) (1.26.4)\n",
      "Requirement already satisfied: packaging>=20.0 in /Users/aboniasojasingarayar/miniconda3/lib/python3.11/site-packages (from accelerate>=0.20.1->FlagEmbedding) (23.2)\n",
      "Requirement already satisfied: psutil in /Users/aboniasojasingarayar/miniconda3/lib/python3.11/site-packages (from accelerate>=0.20.1->FlagEmbedding) (5.9.8)\n",
      "Requirement already satisfied: pyyaml in /Users/aboniasojasingarayar/miniconda3/lib/python3.11/site-packages (from accelerate>=0.20.1->FlagEmbedding) (6.0.1)\n",
      "Requirement already satisfied: huggingface-hub in /Users/aboniasojasingarayar/miniconda3/lib/python3.11/site-packages (from accelerate>=0.20.1->FlagEmbedding) (0.21.3)\n",
      "Requirement already satisfied: safetensors>=0.3.1 in /Users/aboniasojasingarayar/miniconda3/lib/python3.11/site-packages (from accelerate>=0.20.1->FlagEmbedding) (0.4.2)\n",
      "Requirement already satisfied: filelock in /Users/aboniasojasingarayar/miniconda3/lib/python3.11/site-packages (from torch>=1.6.0->FlagEmbedding) (3.13.1)\n",
      "Requirement already satisfied: typing-extensions>=4.8.0 in /Users/aboniasojasingarayar/miniconda3/lib/python3.11/site-packages (from torch>=1.6.0->FlagEmbedding) (4.9.0)\n",
      "Requirement already satisfied: sympy in /Users/aboniasojasingarayar/miniconda3/lib/python3.11/site-packages (from torch>=1.6.0->FlagEmbedding) (1.12)\n",
      "Requirement already satisfied: networkx in /Users/aboniasojasingarayar/miniconda3/lib/python3.11/site-packages (from torch>=1.6.0->FlagEmbedding) (3.2.1)\n",
      "Requirement already satisfied: jinja2 in /Users/aboniasojasingarayar/miniconda3/lib/python3.11/site-packages (from torch>=1.6.0->FlagEmbedding) (3.1.3)\n",
      "Requirement already satisfied: fsspec in /Users/aboniasojasingarayar/miniconda3/lib/python3.11/site-packages (from torch>=1.6.0->FlagEmbedding) (2024.2.0)\n",
      "Requirement already satisfied: regex!=2019.12.17 in /Users/aboniasojasingarayar/miniconda3/lib/python3.11/site-packages (from transformers>=4.33.0->FlagEmbedding) (2023.12.25)\n",
      "Requirement already satisfied: requests in /Users/aboniasojasingarayar/miniconda3/lib/python3.11/site-packages (from transformers>=4.33.0->FlagEmbedding) (2.31.0)\n",
      "Requirement already satisfied: tokenizers<0.19,>=0.14 in /Users/aboniasojasingarayar/miniconda3/lib/python3.11/site-packages (from transformers>=4.33.0->FlagEmbedding) (0.15.2)\n",
      "Requirement already satisfied: tqdm>=4.27 in /Users/aboniasojasingarayar/miniconda3/lib/python3.11/site-packages (from transformers>=4.33.0->FlagEmbedding) (4.65.0)\n",
      "Requirement already satisfied: pyarrow>=12.0.0 in /Users/aboniasojasingarayar/miniconda3/lib/python3.11/site-packages (from datasets->FlagEmbedding) (15.0.0)\n",
      "Collecting pyarrow-hotfix (from datasets->FlagEmbedding)\n",
      "  Downloading pyarrow_hotfix-0.6-py3-none-any.whl.metadata (3.6 kB)\n",
      "Collecting dill<0.3.9,>=0.3.0 (from datasets->FlagEmbedding)\n",
      "  Downloading dill-0.3.8-py3-none-any.whl.metadata (10 kB)\n",
      "Requirement already satisfied: pandas in /Users/aboniasojasingarayar/miniconda3/lib/python3.11/site-packages (from datasets->FlagEmbedding) (2.2.1)\n",
      "Collecting xxhash (from datasets->FlagEmbedding)\n",
      "  Downloading xxhash-3.4.1-cp311-cp311-macosx_11_0_arm64.whl.metadata (12 kB)\n",
      "Collecting multiprocess (from datasets->FlagEmbedding)\n",
      "  Downloading multiprocess-0.70.16-py311-none-any.whl.metadata (7.2 kB)\n",
      "Requirement already satisfied: aiohttp in /Users/aboniasojasingarayar/miniconda3/lib/python3.11/site-packages (from datasets->FlagEmbedding) (3.9.3)\n",
      "Requirement already satisfied: scikit-learn in /Users/aboniasojasingarayar/miniconda3/lib/python3.11/site-packages (from sentence_transformers->FlagEmbedding) (1.4.1.post1)\n",
      "Requirement already satisfied: scipy in /Users/aboniasojasingarayar/miniconda3/lib/python3.11/site-packages (from sentence_transformers->FlagEmbedding) (1.12.0)\n",
      "Requirement already satisfied: Pillow in /Users/aboniasojasingarayar/miniconda3/lib/python3.11/site-packages (from sentence_transformers->FlagEmbedding) (10.2.0)\n",
      "Requirement already satisfied: aiosignal>=1.1.2 in /Users/aboniasojasingarayar/miniconda3/lib/python3.11/site-packages (from aiohttp->datasets->FlagEmbedding) (1.3.1)\n",
      "Requirement already satisfied: attrs>=17.3.0 in /Users/aboniasojasingarayar/miniconda3/lib/python3.11/site-packages (from aiohttp->datasets->FlagEmbedding) (23.2.0)\n",
      "Requirement already satisfied: frozenlist>=1.1.1 in /Users/aboniasojasingarayar/miniconda3/lib/python3.11/site-packages (from aiohttp->datasets->FlagEmbedding) (1.4.1)\n",
      "Requirement already satisfied: multidict<7.0,>=4.5 in /Users/aboniasojasingarayar/miniconda3/lib/python3.11/site-packages (from aiohttp->datasets->FlagEmbedding) (6.0.5)\n",
      "Requirement already satisfied: yarl<2.0,>=1.0 in /Users/aboniasojasingarayar/miniconda3/lib/python3.11/site-packages (from aiohttp->datasets->FlagEmbedding) (1.9.4)\n",
      "Requirement already satisfied: charset-normalizer<4,>=2 in /Users/aboniasojasingarayar/miniconda3/lib/python3.11/site-packages (from requests->transformers>=4.33.0->FlagEmbedding) (2.0.4)\n",
      "Requirement already satisfied: idna<4,>=2.5 in /Users/aboniasojasingarayar/miniconda3/lib/python3.11/site-packages (from requests->transformers>=4.33.0->FlagEmbedding) (3.4)\n",
      "Requirement already satisfied: urllib3<3,>=1.21.1 in /Users/aboniasojasingarayar/miniconda3/lib/python3.11/site-packages (from requests->transformers>=4.33.0->FlagEmbedding) (1.26.18)\n",
      "Requirement already satisfied: certifi>=2017.4.17 in /Users/aboniasojasingarayar/miniconda3/lib/python3.11/site-packages (from requests->transformers>=4.33.0->FlagEmbedding) (2024.2.2)\n",
      "Requirement already satisfied: MarkupSafe>=2.0 in /Users/aboniasojasingarayar/miniconda3/lib/python3.11/site-packages (from jinja2->torch>=1.6.0->FlagEmbedding) (2.1.5)\n",
      "Requirement already satisfied: python-dateutil>=2.8.2 in /Users/aboniasojasingarayar/miniconda3/lib/python3.11/site-packages (from pandas->datasets->FlagEmbedding) (2.8.2)\n",
      "Requirement already satisfied: pytz>=2020.1 in /Users/aboniasojasingarayar/miniconda3/lib/python3.11/site-packages (from pandas->datasets->FlagEmbedding) (2024.1)\n",
      "Requirement already satisfied: tzdata>=2022.7 in /Users/aboniasojasingarayar/miniconda3/lib/python3.11/site-packages (from pandas->datasets->FlagEmbedding) (2024.1)\n",
      "Requirement already satisfied: joblib>=1.2.0 in /Users/aboniasojasingarayar/miniconda3/lib/python3.11/site-packages (from scikit-learn->sentence_transformers->FlagEmbedding) (1.3.2)\n",
      "Requirement already satisfied: threadpoolctl>=2.0.0 in /Users/aboniasojasingarayar/miniconda3/lib/python3.11/site-packages (from scikit-learn->sentence_transformers->FlagEmbedding) (3.3.0)\n",
      "Requirement already satisfied: mpmath>=0.19 in /Users/aboniasojasingarayar/miniconda3/lib/python3.11/site-packages (from sympy->torch>=1.6.0->FlagEmbedding) (1.3.0)\n",
      "Requirement already satisfied: six>=1.5 in /Users/aboniasojasingarayar/miniconda3/lib/python3.11/site-packages (from python-dateutil>=2.8.2->pandas->datasets->FlagEmbedding) (1.16.0)\n",
      "Downloading accelerate-0.27.2-py3-none-any.whl (279 kB)\n",
      "\u001b[2K   \u001b[90m━━━━━━━━━━━━━━━━━━━━━━━━━━━━━━━━━━━━━━━━\u001b[0m \u001b[32m280.0/280.0 kB\u001b[0m \u001b[31m16.4 MB/s\u001b[0m eta \u001b[36m0:00:00\u001b[0m\n",
      "\u001b[?25hDownloading datasets-2.18.0-py3-none-any.whl (510 kB)\n",
      "\u001b[2K   \u001b[90m━━━━━━━━━━━━━━━━━━━━━━━━━━━━━━━━━━━━━━━━\u001b[0m \u001b[32m510.5/510.5 kB\u001b[0m \u001b[31m32.8 MB/s\u001b[0m eta \u001b[36m0:00:00\u001b[0m\n",
      "\u001b[?25hDownloading dill-0.3.8-py3-none-any.whl (116 kB)\n",
      "\u001b[2K   \u001b[90m━━━━━━━━━━━━━━━━━━━━━━━━━━━━━━━━━━━━━━━━\u001b[0m \u001b[32m116.3/116.3 kB\u001b[0m \u001b[31m13.0 MB/s\u001b[0m eta \u001b[36m0:00:00\u001b[0m\n",
      "\u001b[?25hDownloading multiprocess-0.70.16-py311-none-any.whl (143 kB)\n",
      "\u001b[2K   \u001b[90m━━━━━━━━━━━━━━━━━━━━━━━━━━━━━━━━━━━━━━━━\u001b[0m \u001b[32m143.5/143.5 kB\u001b[0m \u001b[31m16.8 MB/s\u001b[0m eta \u001b[36m0:00:00\u001b[0m\n",
      "\u001b[?25hDownloading pyarrow_hotfix-0.6-py3-none-any.whl (7.9 kB)\n",
      "Downloading xxhash-3.4.1-cp311-cp311-macosx_11_0_arm64.whl (30 kB)\n",
      "Building wheels for collected packages: FlagEmbedding\n",
      "  Building wheel for FlagEmbedding (setup.py) ... \u001b[?25ldone\n",
      "\u001b[?25h  Created wheel for FlagEmbedding: filename=FlagEmbedding-1.2.5-py3-none-any.whl size=43014 sha256=98554e42ebc3aaaa96aea0ebab82b58106d94a151a953a246a8a035739e7910b\n",
      "  Stored in directory: /Users/aboniasojasingarayar/Library/Caches/pip/wheels/8e/af/a9/e37654d5cf51ee887d9123e7762b059ab73d5f712f1ca4e15a\n",
      "Successfully built FlagEmbedding\n",
      "Installing collected packages: xxhash, pyarrow-hotfix, dill, multiprocess, accelerate, datasets, FlagEmbedding\n",
      "Successfully installed FlagEmbedding-1.2.5 accelerate-0.27.2 datasets-2.18.0 dill-0.3.8 multiprocess-0.70.16 pyarrow-hotfix-0.6 xxhash-3.4.1\n",
      "Note: you may need to restart the kernel to use updated packages.\n"
     ]
    }
   ],
   "source": [
    "pip install FlagEmbedding"
   ]
  },
  {
   "cell_type": "code",
   "execution_count": 19,
   "metadata": {},
   "outputs": [
    {
     "data": {
      "application/vnd.jupyter.widget-view+json": {
       "model_id": "6420867e23a84f5196657c42da9482d3",
       "version_major": 2,
       "version_minor": 0
      },
      "text/plain": [
       "tokenizer_config.json:   0%|          | 0.00/443 [00:00<?, ?B/s]"
      ]
     },
     "metadata": {},
     "output_type": "display_data"
    },
    {
     "data": {
      "application/vnd.jupyter.widget-view+json": {
       "model_id": "a02836bf29324664a7131a95918639f9",
       "version_major": 2,
       "version_minor": 0
      },
      "text/plain": [
       "sentencepiece.bpe.model:   0%|          | 0.00/5.07M [00:00<?, ?B/s]"
      ]
     },
     "metadata": {},
     "output_type": "display_data"
    },
    {
     "data": {
      "application/vnd.jupyter.widget-view+json": {
       "model_id": "df8fab527ec54ca7a68bd087665e6bdf",
       "version_major": 2,
       "version_minor": 0
      },
      "text/plain": [
       "tokenizer.json:   0%|          | 0.00/17.1M [00:00<?, ?B/s]"
      ]
     },
     "metadata": {},
     "output_type": "display_data"
    },
    {
     "data": {
      "application/vnd.jupyter.widget-view+json": {
       "model_id": "c2fca4002cba416f9174e36b86f2b49e",
       "version_major": 2,
       "version_minor": 0
      },
      "text/plain": [
       "special_tokens_map.json:   0%|          | 0.00/279 [00:00<?, ?B/s]"
      ]
     },
     "metadata": {},
     "output_type": "display_data"
    },
    {
     "data": {
      "application/vnd.jupyter.widget-view+json": {
       "model_id": "872680260b7e4a8eaefb85be06f27cf4",
       "version_major": 2,
       "version_minor": 0
      },
      "text/plain": [
       "config.json:   0%|          | 0.00/801 [00:00<?, ?B/s]"
      ]
     },
     "metadata": {},
     "output_type": "display_data"
    },
    {
     "data": {
      "application/vnd.jupyter.widget-view+json": {
       "model_id": "474414ae15384c1d878aa5fea70f5efb",
       "version_major": 2,
       "version_minor": 0
      },
      "text/plain": [
       "model.safetensors:   0%|          | 0.00/2.24G [00:00<?, ?B/s]"
      ]
     },
     "metadata": {},
     "output_type": "display_data"
    },
    {
     "name": "stdout",
     "output_type": "stream",
     "text": [
      "[-1.22265625, 7.8984375]\n"
     ]
    }
   ],
   "source": [
    "from FlagEmbedding import FlagReranker\n",
    "\n",
    "# Initialize the reranker with a specified model\n",
    "reranker = FlagReranker('BAAI/bge-reranker-large', use_fp16=True)\n",
    "\n",
    "# Define query-passage pairs\n",
    "pairs = [\n",
    "    ['who is Isaac Newton?', 'Newton is known for his work on gravity'],\n",
    "    ['who is Isaac Newton?', 'Isaac Newton was an English mathematician, physicist, and astronomer, widely recognized as one of the most influential scientists of all time.']\n",
    "]\n",
    "\n",
    "# Compute relevance scores for the defined pairs\n",
    "scores = reranker.compute_score(pairs)\n",
    "print(scores)"
   ]
  },
  {
   "cell_type": "code",
   "execution_count": 20,
   "metadata": {},
   "outputs": [
    {
     "name": "stdout",
     "output_type": "stream",
     "text": [
      "tensor([-1.2149,  7.8965])\n"
     ]
    }
   ],
   "source": [
    "import torch\n",
    "from transformers import AutoModelForSequenceClassification, AutoTokenizer\n",
    "\n",
    "# Load the tokenizer and model for reranking\n",
    "tokenizer = AutoTokenizer.from_pretrained('BAAI/bge-reranker-large')\n",
    "model = AutoModelForSequenceClassification.from_pretrained('BAAI/bge-reranker-large')\n",
    "model.eval()\n",
    "\n",
    "# Define query-passage pairs\n",
    "pairs = [\n",
    "    ['who is Isaac Newton?', 'Newton is known for his work on gravity'],\n",
    "    ['who is Isaac Newton?', 'Isaac Newton was an English mathematician, physicist, and astronomer, widely recognized as one of the most influential scientists of all time.']\n",
    "]\n",
    "\n",
    "# Compute relevance scores using the transformer model\n",
    "with torch.no_grad():\n",
    "    inputs = tokenizer(pairs, padding=True, truncation=True, return_tensors='pt', max_length=512)\n",
    "    scores = model(**inputs, return_dict=True).logits.view(-1, ).float()\n",
    "    print(scores)"
   ]
  },
  {
   "cell_type": "code",
   "execution_count": 21,
   "metadata": {},
   "outputs": [
    {
     "name": "stderr",
     "output_type": "stream",
     "text": [
      "huggingface/tokenizers: The current process just got forked, after parallelism has already been used. Disabling parallelism to avoid deadlocks...\n",
      "To disable this warning, you can either:\n",
      "\t- Avoid using `tokenizers` before the fork if possible\n",
      "\t- Explicitly set the environment variable TOKENIZERS_PARALLELISM=(true | false)\n"
     ]
    },
    {
     "name": "stdout",
     "output_type": "stream",
     "text": [
      "Collecting llama_index\n",
      "  Downloading llama_index-0.10.16-py3-none-any.whl.metadata (8.8 kB)\n",
      "Collecting llama-index-agent-openai<0.2.0,>=0.1.4 (from llama_index)\n",
      "  Downloading llama_index_agent_openai-0.1.5-py3-none-any.whl.metadata (695 bytes)\n",
      "Collecting llama-index-cli<0.2.0,>=0.1.2 (from llama_index)\n",
      "  Downloading llama_index_cli-0.1.7-py3-none-any.whl.metadata (1.6 kB)\n",
      "Collecting llama-index-core<0.11.0,>=0.10.16 (from llama_index)\n",
      "  Downloading llama_index_core-0.10.16.post1-py3-none-any.whl.metadata (3.6 kB)\n",
      "Collecting llama-index-embeddings-openai<0.2.0,>=0.1.5 (from llama_index)\n",
      "  Downloading llama_index_embeddings_openai-0.1.6-py3-none-any.whl.metadata (654 bytes)\n",
      "Collecting llama-index-indices-managed-llama-cloud<0.2.0,>=0.1.2 (from llama_index)\n",
      "  Downloading llama_index_indices_managed_llama_cloud-0.1.3-py3-none-any.whl.metadata (3.9 kB)\n",
      "Collecting llama-index-legacy<0.10.0,>=0.9.48 (from llama_index)\n",
      "  Downloading llama_index_legacy-0.9.48-py3-none-any.whl.metadata (8.5 kB)\n",
      "Collecting llama-index-llms-openai<0.2.0,>=0.1.5 (from llama_index)\n",
      "  Downloading llama_index_llms_openai-0.1.7-py3-none-any.whl.metadata (557 bytes)\n",
      "Collecting llama-index-multi-modal-llms-openai<0.2.0,>=0.1.3 (from llama_index)\n",
      "  Downloading llama_index_multi_modal_llms_openai-0.1.4-py3-none-any.whl.metadata (728 bytes)\n",
      "Collecting llama-index-program-openai<0.2.0,>=0.1.3 (from llama_index)\n",
      "  Downloading llama_index_program_openai-0.1.4-py3-none-any.whl.metadata (766 bytes)\n",
      "Collecting llama-index-question-gen-openai<0.2.0,>=0.1.2 (from llama_index)\n",
      "  Downloading llama_index_question_gen_openai-0.1.3-py3-none-any.whl.metadata (785 bytes)\n",
      "Collecting llama-index-readers-file<0.2.0,>=0.1.4 (from llama_index)\n",
      "  Downloading llama_index_readers_file-0.1.8-py3-none-any.whl.metadata (926 bytes)\n",
      "Collecting llama-index-readers-llama-parse<0.2.0,>=0.1.2 (from llama_index)\n",
      "  Downloading llama_index_readers_llama_parse-0.1.3-py3-none-any.whl.metadata (3.6 kB)\n",
      "Collecting llama-index-vector-stores-chroma<0.2.0,>=0.1.1 (from llama-index-cli<0.2.0,>=0.1.2->llama_index)\n",
      "  Downloading llama_index_vector_stores_chroma-0.1.5-py3-none-any.whl.metadata (795 bytes)\n",
      "Requirement already satisfied: PyYAML>=6.0.1 in /Users/aboniasojasingarayar/miniconda3/lib/python3.11/site-packages (from llama-index-core<0.11.0,>=0.10.16->llama_index) (6.0.1)\n",
      "Requirement already satisfied: SQLAlchemy>=1.4.49 in /Users/aboniasojasingarayar/miniconda3/lib/python3.11/site-packages (from SQLAlchemy[asyncio]>=1.4.49->llama-index-core<0.11.0,>=0.10.16->llama_index) (2.0.27)\n",
      "Requirement already satisfied: aiohttp<4.0.0,>=3.8.6 in /Users/aboniasojasingarayar/miniconda3/lib/python3.11/site-packages (from llama-index-core<0.11.0,>=0.10.16->llama_index) (3.9.3)\n",
      "Requirement already satisfied: dataclasses-json in /Users/aboniasojasingarayar/miniconda3/lib/python3.11/site-packages (from llama-index-core<0.11.0,>=0.10.16->llama_index) (0.6.4)\n",
      "Collecting deprecated>=1.2.9.3 (from llama-index-core<0.11.0,>=0.10.16->llama_index)\n",
      "  Downloading Deprecated-1.2.14-py2.py3-none-any.whl.metadata (5.4 kB)\n",
      "Collecting dirtyjson<2.0.0,>=1.0.8 (from llama-index-core<0.11.0,>=0.10.16->llama_index)\n",
      "  Downloading dirtyjson-1.0.8-py3-none-any.whl.metadata (11 kB)\n",
      "Requirement already satisfied: fsspec>=2023.5.0 in /Users/aboniasojasingarayar/miniconda3/lib/python3.11/site-packages (from llama-index-core<0.11.0,>=0.10.16->llama_index) (2024.2.0)\n",
      "Requirement already satisfied: httpx in /Users/aboniasojasingarayar/miniconda3/lib/python3.11/site-packages (from llama-index-core<0.11.0,>=0.10.16->llama_index) (0.27.0)\n",
      "Collecting llamaindex-py-client<0.2.0,>=0.1.13 (from llama-index-core<0.11.0,>=0.10.16->llama_index)\n",
      "  Downloading llamaindex_py_client-0.1.13-py3-none-any.whl.metadata (762 bytes)\n",
      "Requirement already satisfied: nest-asyncio<2.0.0,>=1.5.8 in /Users/aboniasojasingarayar/miniconda3/lib/python3.11/site-packages (from llama-index-core<0.11.0,>=0.10.16->llama_index) (1.6.0)\n",
      "Requirement already satisfied: networkx>=3.0 in /Users/aboniasojasingarayar/miniconda3/lib/python3.11/site-packages (from llama-index-core<0.11.0,>=0.10.16->llama_index) (3.2.1)\n",
      "Collecting nltk<4.0.0,>=3.8.1 (from llama-index-core<0.11.0,>=0.10.16->llama_index)\n",
      "  Downloading nltk-3.8.1-py3-none-any.whl.metadata (2.8 kB)\n",
      "Requirement already satisfied: numpy in /Users/aboniasojasingarayar/miniconda3/lib/python3.11/site-packages (from llama-index-core<0.11.0,>=0.10.16->llama_index) (1.26.4)\n",
      "Collecting openai>=1.1.0 (from llama-index-core<0.11.0,>=0.10.16->llama_index)\n",
      "  Downloading openai-1.13.3-py3-none-any.whl.metadata (18 kB)\n",
      "Requirement already satisfied: pandas in /Users/aboniasojasingarayar/miniconda3/lib/python3.11/site-packages (from llama-index-core<0.11.0,>=0.10.16->llama_index) (2.2.1)\n",
      "Requirement already satisfied: pillow>=9.0.0 in /Users/aboniasojasingarayar/miniconda3/lib/python3.11/site-packages (from llama-index-core<0.11.0,>=0.10.16->llama_index) (10.2.0)\n",
      "Requirement already satisfied: requests>=2.31.0 in /Users/aboniasojasingarayar/miniconda3/lib/python3.11/site-packages (from llama-index-core<0.11.0,>=0.10.16->llama_index) (2.31.0)\n",
      "Requirement already satisfied: tenacity<9.0.0,>=8.2.0 in /Users/aboniasojasingarayar/miniconda3/lib/python3.11/site-packages (from llama-index-core<0.11.0,>=0.10.16->llama_index) (8.2.3)\n",
      "Requirement already satisfied: tiktoken>=0.3.3 in /Users/aboniasojasingarayar/miniconda3/lib/python3.11/site-packages (from llama-index-core<0.11.0,>=0.10.16->llama_index) (0.6.0)\n",
      "Collecting tqdm<5.0.0,>=4.66.1 (from llama-index-core<0.11.0,>=0.10.16->llama_index)\n",
      "  Downloading tqdm-4.66.2-py3-none-any.whl.metadata (57 kB)\n",
      "\u001b[2K     \u001b[90m━━━━━━━━━━━━━━━━━━━━━━━━━━━━━━━━━━━━━━━━\u001b[0m \u001b[32m57.6/57.6 kB\u001b[0m \u001b[31m4.6 MB/s\u001b[0m eta \u001b[36m0:00:00\u001b[0m\n",
      "\u001b[?25hRequirement already satisfied: typing-extensions>=4.5.0 in /Users/aboniasojasingarayar/miniconda3/lib/python3.11/site-packages (from llama-index-core<0.11.0,>=0.10.16->llama_index) (4.9.0)\n",
      "Requirement already satisfied: typing-inspect>=0.8.0 in /Users/aboniasojasingarayar/miniconda3/lib/python3.11/site-packages (from llama-index-core<0.11.0,>=0.10.16->llama_index) (0.9.0)\n",
      "Collecting beautifulsoup4<5.0.0,>=4.12.3 (from llama-index-readers-file<0.2.0,>=0.1.4->llama_index)\n",
      "  Downloading beautifulsoup4-4.12.3-py3-none-any.whl.metadata (3.8 kB)\n",
      "Collecting bs4<0.0.3,>=0.0.2 (from llama-index-readers-file<0.2.0,>=0.1.4->llama_index)\n",
      "  Downloading bs4-0.0.2-py2.py3-none-any.whl.metadata (411 bytes)\n",
      "Collecting pymupdf<2.0.0,>=1.23.21 (from llama-index-readers-file<0.2.0,>=0.1.4->llama_index)\n",
      "  Downloading PyMuPDF-1.23.26-cp311-none-macosx_11_0_arm64.whl.metadata (3.4 kB)\n",
      "Requirement already satisfied: pypdf<5.0.0,>=4.0.1 in /Users/aboniasojasingarayar/miniconda3/lib/python3.11/site-packages (from llama-index-readers-file<0.2.0,>=0.1.4->llama_index) (4.0.2)\n",
      "Collecting llama-parse<0.4.0,>=0.3.3 (from llama-index-readers-llama-parse<0.2.0,>=0.1.2->llama_index)\n",
      "  Downloading llama_parse-0.3.6-py3-none-any.whl.metadata (3.4 kB)\n",
      "Requirement already satisfied: aiosignal>=1.1.2 in /Users/aboniasojasingarayar/miniconda3/lib/python3.11/site-packages (from aiohttp<4.0.0,>=3.8.6->llama-index-core<0.11.0,>=0.10.16->llama_index) (1.3.1)\n",
      "Requirement already satisfied: attrs>=17.3.0 in /Users/aboniasojasingarayar/miniconda3/lib/python3.11/site-packages (from aiohttp<4.0.0,>=3.8.6->llama-index-core<0.11.0,>=0.10.16->llama_index) (23.2.0)\n",
      "Requirement already satisfied: frozenlist>=1.1.1 in /Users/aboniasojasingarayar/miniconda3/lib/python3.11/site-packages (from aiohttp<4.0.0,>=3.8.6->llama-index-core<0.11.0,>=0.10.16->llama_index) (1.4.1)\n",
      "Requirement already satisfied: multidict<7.0,>=4.5 in /Users/aboniasojasingarayar/miniconda3/lib/python3.11/site-packages (from aiohttp<4.0.0,>=3.8.6->llama-index-core<0.11.0,>=0.10.16->llama_index) (6.0.5)\n",
      "Requirement already satisfied: yarl<2.0,>=1.0 in /Users/aboniasojasingarayar/miniconda3/lib/python3.11/site-packages (from aiohttp<4.0.0,>=3.8.6->llama-index-core<0.11.0,>=0.10.16->llama_index) (1.9.4)\n",
      "Collecting soupsieve>1.2 (from beautifulsoup4<5.0.0,>=4.12.3->llama-index-readers-file<0.2.0,>=0.1.4->llama_index)\n",
      "  Downloading soupsieve-2.5-py3-none-any.whl.metadata (4.7 kB)\n",
      "Collecting wrapt<2,>=1.10 (from deprecated>=1.2.9.3->llama-index-core<0.11.0,>=0.10.16->llama_index)\n",
      "  Downloading wrapt-1.16.0-cp311-cp311-macosx_11_0_arm64.whl.metadata (6.6 kB)\n",
      "Collecting chromadb<0.5.0,>=0.4.22 (from llama-index-vector-stores-chroma<0.2.0,>=0.1.1->llama-index-cli<0.2.0,>=0.1.2->llama_index)\n",
      "  Downloading chromadb-0.4.24-py3-none-any.whl.metadata (7.3 kB)\n",
      "Collecting onnxruntime<2.0.0,>=1.17.0 (from llama-index-vector-stores-chroma<0.2.0,>=0.1.1->llama-index-cli<0.2.0,>=0.1.2->llama_index)\n",
      "  Downloading onnxruntime-1.17.1-cp311-cp311-macosx_11_0_universal2.whl.metadata (4.2 kB)\n",
      "Requirement already satisfied: tokenizers<0.16.0,>=0.15.1 in /Users/aboniasojasingarayar/miniconda3/lib/python3.11/site-packages (from llama-index-vector-stores-chroma<0.2.0,>=0.1.1->llama-index-cli<0.2.0,>=0.1.2->llama_index) (0.15.2)\n",
      "Collecting pydantic>=1.10 (from llamaindex-py-client<0.2.0,>=0.1.13->llama-index-core<0.11.0,>=0.10.16->llama_index)\n",
      "  Downloading pydantic-2.6.3-py3-none-any.whl.metadata (84 kB)\n",
      "\u001b[2K     \u001b[90m━━━━━━━━━━━━━━━━━━━━━━━━━━━━━━━━━━━━━━━━\u001b[0m \u001b[32m84.4/84.4 kB\u001b[0m \u001b[31m8.0 MB/s\u001b[0m eta \u001b[36m0:00:00\u001b[0m\n",
      "\u001b[?25hRequirement already satisfied: anyio in /Users/aboniasojasingarayar/miniconda3/lib/python3.11/site-packages (from httpx->llama-index-core<0.11.0,>=0.10.16->llama_index) (4.3.0)\n",
      "Requirement already satisfied: certifi in /Users/aboniasojasingarayar/miniconda3/lib/python3.11/site-packages (from httpx->llama-index-core<0.11.0,>=0.10.16->llama_index) (2024.2.2)\n",
      "Requirement already satisfied: httpcore==1.* in /Users/aboniasojasingarayar/miniconda3/lib/python3.11/site-packages (from httpx->llama-index-core<0.11.0,>=0.10.16->llama_index) (1.0.4)\n",
      "Requirement already satisfied: idna in /Users/aboniasojasingarayar/miniconda3/lib/python3.11/site-packages (from httpx->llama-index-core<0.11.0,>=0.10.16->llama_index) (3.4)\n",
      "Requirement already satisfied: sniffio in /Users/aboniasojasingarayar/miniconda3/lib/python3.11/site-packages (from httpx->llama-index-core<0.11.0,>=0.10.16->llama_index) (1.3.0)\n",
      "Requirement already satisfied: h11<0.15,>=0.13 in /Users/aboniasojasingarayar/miniconda3/lib/python3.11/site-packages (from httpcore==1.*->httpx->llama-index-core<0.11.0,>=0.10.16->llama_index) (0.14.0)\n",
      "Requirement already satisfied: click in /Users/aboniasojasingarayar/miniconda3/lib/python3.11/site-packages (from nltk<4.0.0,>=3.8.1->llama-index-core<0.11.0,>=0.10.16->llama_index) (7.1.2)\n",
      "Requirement already satisfied: joblib in /Users/aboniasojasingarayar/miniconda3/lib/python3.11/site-packages (from nltk<4.0.0,>=3.8.1->llama-index-core<0.11.0,>=0.10.16->llama_index) (1.3.2)\n",
      "Requirement already satisfied: regex>=2021.8.3 in /Users/aboniasojasingarayar/miniconda3/lib/python3.11/site-packages (from nltk<4.0.0,>=3.8.1->llama-index-core<0.11.0,>=0.10.16->llama_index) (2023.12.25)\n",
      "Requirement already satisfied: distro<2,>=1.7.0 in /Users/aboniasojasingarayar/miniconda3/lib/python3.11/site-packages (from openai>=1.1.0->llama-index-core<0.11.0,>=0.10.16->llama_index) (1.8.0)\n",
      "Collecting PyMuPDFb==1.23.22 (from pymupdf<2.0.0,>=1.23.21->llama-index-readers-file<0.2.0,>=0.1.4->llama_index)\n",
      "  Downloading PyMuPDFb-1.23.22-py3-none-macosx_11_0_arm64.whl.metadata (1.4 kB)\n",
      "Requirement already satisfied: charset-normalizer<4,>=2 in /Users/aboniasojasingarayar/miniconda3/lib/python3.11/site-packages (from requests>=2.31.0->llama-index-core<0.11.0,>=0.10.16->llama_index) (2.0.4)\n",
      "Requirement already satisfied: urllib3<3,>=1.21.1 in /Users/aboniasojasingarayar/miniconda3/lib/python3.11/site-packages (from requests>=2.31.0->llama-index-core<0.11.0,>=0.10.16->llama_index) (1.26.18)\n",
      "Requirement already satisfied: greenlet!=0.4.17 in /Users/aboniasojasingarayar/miniconda3/lib/python3.11/site-packages (from SQLAlchemy[asyncio]>=1.4.49->llama-index-core<0.11.0,>=0.10.16->llama_index) (3.0.3)\n",
      "Requirement already satisfied: mypy-extensions>=0.3.0 in /Users/aboniasojasingarayar/miniconda3/lib/python3.11/site-packages (from typing-inspect>=0.8.0->llama-index-core<0.11.0,>=0.10.16->llama_index) (1.0.0)\n",
      "Requirement already satisfied: marshmallow<4.0.0,>=3.18.0 in /Users/aboniasojasingarayar/miniconda3/lib/python3.11/site-packages (from dataclasses-json->llama-index-core<0.11.0,>=0.10.16->llama_index) (3.20.2)\n",
      "Requirement already satisfied: python-dateutil>=2.8.2 in /Users/aboniasojasingarayar/miniconda3/lib/python3.11/site-packages (from pandas->llama-index-core<0.11.0,>=0.10.16->llama_index) (2.8.2)\n",
      "Requirement already satisfied: pytz>=2020.1 in /Users/aboniasojasingarayar/miniconda3/lib/python3.11/site-packages (from pandas->llama-index-core<0.11.0,>=0.10.16->llama_index) (2024.1)\n",
      "Requirement already satisfied: tzdata>=2022.7 in /Users/aboniasojasingarayar/miniconda3/lib/python3.11/site-packages (from pandas->llama-index-core<0.11.0,>=0.10.16->llama_index) (2024.1)\n",
      "Collecting build>=1.0.3 (from chromadb<0.5.0,>=0.4.22->llama-index-vector-stores-chroma<0.2.0,>=0.1.1->llama-index-cli<0.2.0,>=0.1.2->llama_index)\n",
      "  Downloading build-1.1.1-py3-none-any.whl.metadata (4.2 kB)\n",
      "Collecting chroma-hnswlib==0.7.3 (from chromadb<0.5.0,>=0.4.22->llama-index-vector-stores-chroma<0.2.0,>=0.1.1->llama-index-cli<0.2.0,>=0.1.2->llama_index)\n",
      "  Downloading chroma_hnswlib-0.7.3-cp311-cp311-macosx_11_0_arm64.whl.metadata (252 bytes)\n",
      "Requirement already satisfied: fastapi>=0.95.2 in /Users/aboniasojasingarayar/miniconda3/lib/python3.11/site-packages (from chromadb<0.5.0,>=0.4.22->llama-index-vector-stores-chroma<0.2.0,>=0.1.1->llama-index-cli<0.2.0,>=0.1.2->llama_index) (0.110.0)\n",
      "Requirement already satisfied: uvicorn>=0.18.3 in /Users/aboniasojasingarayar/miniconda3/lib/python3.11/site-packages (from uvicorn[standard]>=0.18.3->chromadb<0.5.0,>=0.4.22->llama-index-vector-stores-chroma<0.2.0,>=0.1.1->llama-index-cli<0.2.0,>=0.1.2->llama_index) (0.27.1)\n",
      "Collecting posthog>=2.4.0 (from chromadb<0.5.0,>=0.4.22->llama-index-vector-stores-chroma<0.2.0,>=0.1.1->llama-index-cli<0.2.0,>=0.1.2->llama_index)\n",
      "  Downloading posthog-3.5.0-py2.py3-none-any.whl.metadata (2.0 kB)\n",
      "Collecting pulsar-client>=3.1.0 (from chromadb<0.5.0,>=0.4.22->llama-index-vector-stores-chroma<0.2.0,>=0.1.1->llama-index-cli<0.2.0,>=0.1.2->llama_index)\n",
      "  Downloading pulsar_client-3.4.0-cp311-cp311-macosx_10_15_universal2.whl.metadata (1.0 kB)\n",
      "Collecting opentelemetry-api>=1.2.0 (from chromadb<0.5.0,>=0.4.22->llama-index-vector-stores-chroma<0.2.0,>=0.1.1->llama-index-cli<0.2.0,>=0.1.2->llama_index)\n",
      "  Downloading opentelemetry_api-1.23.0-py3-none-any.whl.metadata (1.4 kB)\n",
      "Collecting opentelemetry-exporter-otlp-proto-grpc>=1.2.0 (from chromadb<0.5.0,>=0.4.22->llama-index-vector-stores-chroma<0.2.0,>=0.1.1->llama-index-cli<0.2.0,>=0.1.2->llama_index)\n",
      "  Downloading opentelemetry_exporter_otlp_proto_grpc-1.23.0-py3-none-any.whl.metadata (2.2 kB)\n",
      "Collecting opentelemetry-instrumentation-fastapi>=0.41b0 (from chromadb<0.5.0,>=0.4.22->llama-index-vector-stores-chroma<0.2.0,>=0.1.1->llama-index-cli<0.2.0,>=0.1.2->llama_index)\n",
      "  Downloading opentelemetry_instrumentation_fastapi-0.44b0-py3-none-any.whl.metadata (2.3 kB)\n",
      "Collecting opentelemetry-sdk>=1.2.0 (from chromadb<0.5.0,>=0.4.22->llama-index-vector-stores-chroma<0.2.0,>=0.1.1->llama-index-cli<0.2.0,>=0.1.2->llama_index)\n",
      "  Downloading opentelemetry_sdk-1.23.0-py3-none-any.whl.metadata (1.4 kB)\n",
      "Collecting pypika>=0.48.9 (from chromadb<0.5.0,>=0.4.22->llama-index-vector-stores-chroma<0.2.0,>=0.1.1->llama-index-cli<0.2.0,>=0.1.2->llama_index)\n",
      "  Downloading PyPika-0.48.9.tar.gz (67 kB)\n",
      "\u001b[2K     \u001b[90m━━━━━━━━━━━━━━━━━━━━━━━━━━━━━━━━━━━━━━━━\u001b[0m \u001b[32m67.3/67.3 kB\u001b[0m \u001b[31m7.7 MB/s\u001b[0m eta \u001b[36m0:00:00\u001b[0m\n",
      "\u001b[?25h  Installing build dependencies ... \u001b[?25ldone\n",
      "\u001b[?25h  Getting requirements to build wheel ... \u001b[?25ldone\n",
      "\u001b[?25h  Preparing metadata (pyproject.toml) ... \u001b[?25ldone\n",
      "\u001b[?25hCollecting overrides>=7.3.1 (from chromadb<0.5.0,>=0.4.22->llama-index-vector-stores-chroma<0.2.0,>=0.1.1->llama-index-cli<0.2.0,>=0.1.2->llama_index)\n",
      "  Downloading overrides-7.7.0-py3-none-any.whl.metadata (5.8 kB)\n",
      "Collecting importlib-resources (from chromadb<0.5.0,>=0.4.22->llama-index-vector-stores-chroma<0.2.0,>=0.1.1->llama-index-cli<0.2.0,>=0.1.2->llama_index)\n",
      "  Downloading importlib_resources-6.1.2-py3-none-any.whl.metadata (3.9 kB)\n",
      "Collecting grpcio>=1.58.0 (from chromadb<0.5.0,>=0.4.22->llama-index-vector-stores-chroma<0.2.0,>=0.1.1->llama-index-cli<0.2.0,>=0.1.2->llama_index)\n",
      "  Downloading grpcio-1.62.0-cp311-cp311-macosx_10_10_universal2.whl.metadata (4.0 kB)\n",
      "Collecting bcrypt>=4.0.1 (from chromadb<0.5.0,>=0.4.22->llama-index-vector-stores-chroma<0.2.0,>=0.1.1->llama-index-cli<0.2.0,>=0.1.2->llama_index)\n",
      "  Downloading bcrypt-4.1.2-cp39-abi3-macosx_10_12_universal2.whl.metadata (9.5 kB)\n",
      "Collecting typer>=0.9.0 (from chromadb<0.5.0,>=0.4.22->llama-index-vector-stores-chroma<0.2.0,>=0.1.1->llama-index-cli<0.2.0,>=0.1.2->llama_index)\n",
      "  Using cached typer-0.9.0-py3-none-any.whl.metadata (14 kB)\n",
      "Collecting kubernetes>=28.1.0 (from chromadb<0.5.0,>=0.4.22->llama-index-vector-stores-chroma<0.2.0,>=0.1.1->llama-index-cli<0.2.0,>=0.1.2->llama_index)\n",
      "  Downloading kubernetes-29.0.0-py2.py3-none-any.whl.metadata (1.5 kB)\n",
      "Collecting mmh3>=4.0.1 (from chromadb<0.5.0,>=0.4.22->llama-index-vector-stores-chroma<0.2.0,>=0.1.1->llama-index-cli<0.2.0,>=0.1.2->llama_index)\n",
      "  Downloading mmh3-4.1.0-cp311-cp311-macosx_11_0_arm64.whl.metadata (13 kB)\n",
      "Requirement already satisfied: orjson>=3.9.12 in /Users/aboniasojasingarayar/miniconda3/lib/python3.11/site-packages (from chromadb<0.5.0,>=0.4.22->llama-index-vector-stores-chroma<0.2.0,>=0.1.1->llama-index-cli<0.2.0,>=0.1.2->llama_index) (3.9.15)\n",
      "Requirement already satisfied: packaging>=17.0 in /Users/aboniasojasingarayar/miniconda3/lib/python3.11/site-packages (from marshmallow<4.0.0,>=3.18.0->dataclasses-json->llama-index-core<0.11.0,>=0.10.16->llama_index) (23.2)\n",
      "Collecting coloredlogs (from onnxruntime<2.0.0,>=1.17.0->llama-index-vector-stores-chroma<0.2.0,>=0.1.1->llama-index-cli<0.2.0,>=0.1.2->llama_index)\n",
      "  Downloading coloredlogs-15.0.1-py2.py3-none-any.whl.metadata (12 kB)\n",
      "Collecting flatbuffers (from onnxruntime<2.0.0,>=1.17.0->llama-index-vector-stores-chroma<0.2.0,>=0.1.1->llama-index-cli<0.2.0,>=0.1.2->llama_index)\n",
      "  Downloading flatbuffers-23.5.26-py2.py3-none-any.whl.metadata (850 bytes)\n",
      "Requirement already satisfied: protobuf in /Users/aboniasojasingarayar/miniconda3/lib/python3.11/site-packages (from onnxruntime<2.0.0,>=1.17.0->llama-index-vector-stores-chroma<0.2.0,>=0.1.1->llama-index-cli<0.2.0,>=0.1.2->llama_index) (4.25.3)\n",
      "Requirement already satisfied: sympy in /Users/aboniasojasingarayar/miniconda3/lib/python3.11/site-packages (from onnxruntime<2.0.0,>=1.17.0->llama-index-vector-stores-chroma<0.2.0,>=0.1.1->llama-index-cli<0.2.0,>=0.1.2->llama_index) (1.12)\n",
      "Requirement already satisfied: annotated-types>=0.4.0 in /Users/aboniasojasingarayar/miniconda3/lib/python3.11/site-packages (from pydantic>=1.10->llamaindex-py-client<0.2.0,>=0.1.13->llama-index-core<0.11.0,>=0.10.16->llama_index) (0.6.0)\n",
      "Collecting pydantic-core==2.16.3 (from pydantic>=1.10->llamaindex-py-client<0.2.0,>=0.1.13->llama-index-core<0.11.0,>=0.10.16->llama_index)\n",
      "  Downloading pydantic_core-2.16.3-cp311-cp311-macosx_11_0_arm64.whl.metadata (6.5 kB)\n",
      "Requirement already satisfied: six>=1.5 in /Users/aboniasojasingarayar/miniconda3/lib/python3.11/site-packages (from python-dateutil>=2.8.2->pandas->llama-index-core<0.11.0,>=0.10.16->llama_index) (1.16.0)\n",
      "Requirement already satisfied: huggingface_hub<1.0,>=0.16.4 in /Users/aboniasojasingarayar/miniconda3/lib/python3.11/site-packages (from tokenizers<0.16.0,>=0.15.1->llama-index-vector-stores-chroma<0.2.0,>=0.1.1->llama-index-cli<0.2.0,>=0.1.2->llama_index) (0.21.3)\n",
      "Collecting pyproject_hooks (from build>=1.0.3->chromadb<0.5.0,>=0.4.22->llama-index-vector-stores-chroma<0.2.0,>=0.1.1->llama-index-cli<0.2.0,>=0.1.2->llama_index)\n",
      "  Downloading pyproject_hooks-1.0.0-py3-none-any.whl.metadata (1.3 kB)\n",
      "Requirement already satisfied: starlette<0.37.0,>=0.36.3 in /Users/aboniasojasingarayar/miniconda3/lib/python3.11/site-packages (from fastapi>=0.95.2->chromadb<0.5.0,>=0.4.22->llama-index-vector-stores-chroma<0.2.0,>=0.1.1->llama-index-cli<0.2.0,>=0.1.2->llama_index) (0.36.3)\n",
      "Requirement already satisfied: filelock in /Users/aboniasojasingarayar/miniconda3/lib/python3.11/site-packages (from huggingface_hub<1.0,>=0.16.4->tokenizers<0.16.0,>=0.15.1->llama-index-vector-stores-chroma<0.2.0,>=0.1.1->llama-index-cli<0.2.0,>=0.1.2->llama_index) (3.13.1)\n",
      "Collecting google-auth>=1.0.1 (from kubernetes>=28.1.0->chromadb<0.5.0,>=0.4.22->llama-index-vector-stores-chroma<0.2.0,>=0.1.1->llama-index-cli<0.2.0,>=0.1.2->llama_index)\n",
      "  Downloading google_auth-2.28.1-py2.py3-none-any.whl.metadata (4.7 kB)\n",
      "Collecting websocket-client!=0.40.0,!=0.41.*,!=0.42.*,>=0.32.0 (from kubernetes>=28.1.0->chromadb<0.5.0,>=0.4.22->llama-index-vector-stores-chroma<0.2.0,>=0.1.1->llama-index-cli<0.2.0,>=0.1.2->llama_index)\n",
      "  Downloading websocket_client-1.7.0-py3-none-any.whl.metadata (7.9 kB)\n",
      "Collecting requests-oauthlib (from kubernetes>=28.1.0->chromadb<0.5.0,>=0.4.22->llama-index-vector-stores-chroma<0.2.0,>=0.1.1->llama-index-cli<0.2.0,>=0.1.2->llama_index)\n",
      "  Downloading requests_oauthlib-1.3.1-py2.py3-none-any.whl.metadata (10 kB)\n",
      "Collecting oauthlib>=3.2.2 (from kubernetes>=28.1.0->chromadb<0.5.0,>=0.4.22->llama-index-vector-stores-chroma<0.2.0,>=0.1.1->llama-index-cli<0.2.0,>=0.1.2->llama_index)\n",
      "  Downloading oauthlib-3.2.2-py3-none-any.whl.metadata (7.5 kB)\n",
      "Collecting importlib-metadata<7.0,>=6.0 (from opentelemetry-api>=1.2.0->chromadb<0.5.0,>=0.4.22->llama-index-vector-stores-chroma<0.2.0,>=0.1.1->llama-index-cli<0.2.0,>=0.1.2->llama_index)\n",
      "  Downloading importlib_metadata-6.11.0-py3-none-any.whl.metadata (4.9 kB)\n",
      "Collecting googleapis-common-protos~=1.52 (from opentelemetry-exporter-otlp-proto-grpc>=1.2.0->chromadb<0.5.0,>=0.4.22->llama-index-vector-stores-chroma<0.2.0,>=0.1.1->llama-index-cli<0.2.0,>=0.1.2->llama_index)\n",
      "  Downloading googleapis_common_protos-1.62.0-py2.py3-none-any.whl.metadata (1.5 kB)\n",
      "Collecting opentelemetry-exporter-otlp-proto-common==1.23.0 (from opentelemetry-exporter-otlp-proto-grpc>=1.2.0->chromadb<0.5.0,>=0.4.22->llama-index-vector-stores-chroma<0.2.0,>=0.1.1->llama-index-cli<0.2.0,>=0.1.2->llama_index)\n",
      "  Downloading opentelemetry_exporter_otlp_proto_common-1.23.0-py3-none-any.whl.metadata (1.7 kB)\n",
      "Collecting opentelemetry-proto==1.23.0 (from opentelemetry-exporter-otlp-proto-grpc>=1.2.0->chromadb<0.5.0,>=0.4.22->llama-index-vector-stores-chroma<0.2.0,>=0.1.1->llama-index-cli<0.2.0,>=0.1.2->llama_index)\n",
      "  Downloading opentelemetry_proto-1.23.0-py3-none-any.whl.metadata (2.2 kB)\n",
      "Collecting opentelemetry-instrumentation-asgi==0.44b0 (from opentelemetry-instrumentation-fastapi>=0.41b0->chromadb<0.5.0,>=0.4.22->llama-index-vector-stores-chroma<0.2.0,>=0.1.1->llama-index-cli<0.2.0,>=0.1.2->llama_index)\n",
      "  Downloading opentelemetry_instrumentation_asgi-0.44b0-py3-none-any.whl.metadata (2.1 kB)\n",
      "Collecting opentelemetry-instrumentation==0.44b0 (from opentelemetry-instrumentation-fastapi>=0.41b0->chromadb<0.5.0,>=0.4.22->llama-index-vector-stores-chroma<0.2.0,>=0.1.1->llama-index-cli<0.2.0,>=0.1.2->llama_index)\n",
      "  Downloading opentelemetry_instrumentation-0.44b0-py3-none-any.whl.metadata (6.1 kB)\n",
      "Collecting opentelemetry-semantic-conventions==0.44b0 (from opentelemetry-instrumentation-fastapi>=0.41b0->chromadb<0.5.0,>=0.4.22->llama-index-vector-stores-chroma<0.2.0,>=0.1.1->llama-index-cli<0.2.0,>=0.1.2->llama_index)\n",
      "  Downloading opentelemetry_semantic_conventions-0.44b0-py3-none-any.whl.metadata (2.2 kB)\n",
      "Collecting opentelemetry-util-http==0.44b0 (from opentelemetry-instrumentation-fastapi>=0.41b0->chromadb<0.5.0,>=0.4.22->llama-index-vector-stores-chroma<0.2.0,>=0.1.1->llama-index-cli<0.2.0,>=0.1.2->llama_index)\n",
      "  Downloading opentelemetry_util_http-0.44b0-py3-none-any.whl.metadata (2.4 kB)\n",
      "Requirement already satisfied: setuptools>=16.0 in /Users/aboniasojasingarayar/miniconda3/lib/python3.11/site-packages (from opentelemetry-instrumentation==0.44b0->opentelemetry-instrumentation-fastapi>=0.41b0->chromadb<0.5.0,>=0.4.22->llama-index-vector-stores-chroma<0.2.0,>=0.1.1->llama-index-cli<0.2.0,>=0.1.2->llama_index) (68.2.2)\n",
      "Collecting asgiref~=3.0 (from opentelemetry-instrumentation-asgi==0.44b0->opentelemetry-instrumentation-fastapi>=0.41b0->chromadb<0.5.0,>=0.4.22->llama-index-vector-stores-chroma<0.2.0,>=0.1.1->llama-index-cli<0.2.0,>=0.1.2->llama_index)\n",
      "  Downloading asgiref-3.7.2-py3-none-any.whl.metadata (9.2 kB)\n",
      "Collecting monotonic>=1.5 (from posthog>=2.4.0->chromadb<0.5.0,>=0.4.22->llama-index-vector-stores-chroma<0.2.0,>=0.1.1->llama-index-cli<0.2.0,>=0.1.2->llama_index)\n",
      "  Downloading monotonic-1.6-py2.py3-none-any.whl.metadata (1.5 kB)\n",
      "Collecting backoff>=1.10.0 (from posthog>=2.4.0->chromadb<0.5.0,>=0.4.22->llama-index-vector-stores-chroma<0.2.0,>=0.1.1->llama-index-cli<0.2.0,>=0.1.2->llama_index)\n",
      "  Downloading backoff-2.2.1-py3-none-any.whl.metadata (14 kB)\n",
      "Collecting httptools>=0.5.0 (from uvicorn[standard]>=0.18.3->chromadb<0.5.0,>=0.4.22->llama-index-vector-stores-chroma<0.2.0,>=0.1.1->llama-index-cli<0.2.0,>=0.1.2->llama_index)\n",
      "  Downloading httptools-0.6.1-cp311-cp311-macosx_10_9_universal2.whl.metadata (3.6 kB)\n",
      "Requirement already satisfied: python-dotenv>=0.13 in /Users/aboniasojasingarayar/miniconda3/lib/python3.11/site-packages (from uvicorn[standard]>=0.18.3->chromadb<0.5.0,>=0.4.22->llama-index-vector-stores-chroma<0.2.0,>=0.1.1->llama-index-cli<0.2.0,>=0.1.2->llama_index) (1.0.1)\n",
      "Collecting uvloop!=0.15.0,!=0.15.1,>=0.14.0 (from uvicorn[standard]>=0.18.3->chromadb<0.5.0,>=0.4.22->llama-index-vector-stores-chroma<0.2.0,>=0.1.1->llama-index-cli<0.2.0,>=0.1.2->llama_index)\n",
      "  Downloading uvloop-0.19.0-cp311-cp311-macosx_10_9_universal2.whl.metadata (4.9 kB)\n",
      "Collecting watchfiles>=0.13 (from uvicorn[standard]>=0.18.3->chromadb<0.5.0,>=0.4.22->llama-index-vector-stores-chroma<0.2.0,>=0.1.1->llama-index-cli<0.2.0,>=0.1.2->llama_index)\n",
      "  Downloading watchfiles-0.21.0-cp311-cp311-macosx_11_0_arm64.whl.metadata (4.9 kB)\n",
      "Collecting websockets>=10.4 (from uvicorn[standard]>=0.18.3->chromadb<0.5.0,>=0.4.22->llama-index-vector-stores-chroma<0.2.0,>=0.1.1->llama-index-cli<0.2.0,>=0.1.2->llama_index)\n",
      "  Downloading websockets-12.0-cp311-cp311-macosx_11_0_arm64.whl.metadata (6.6 kB)\n",
      "Collecting humanfriendly>=9.1 (from coloredlogs->onnxruntime<2.0.0,>=1.17.0->llama-index-vector-stores-chroma<0.2.0,>=0.1.1->llama-index-cli<0.2.0,>=0.1.2->llama_index)\n",
      "  Downloading humanfriendly-10.0-py2.py3-none-any.whl.metadata (9.2 kB)\n",
      "Requirement already satisfied: mpmath>=0.19 in /Users/aboniasojasingarayar/miniconda3/lib/python3.11/site-packages (from sympy->onnxruntime<2.0.0,>=1.17.0->llama-index-vector-stores-chroma<0.2.0,>=0.1.1->llama-index-cli<0.2.0,>=0.1.2->llama_index) (1.3.0)\n",
      "Requirement already satisfied: cachetools<6.0,>=2.0.0 in /Users/aboniasojasingarayar/miniconda3/lib/python3.11/site-packages (from google-auth>=1.0.1->kubernetes>=28.1.0->chromadb<0.5.0,>=0.4.22->llama-index-vector-stores-chroma<0.2.0,>=0.1.1->llama-index-cli<0.2.0,>=0.1.2->llama_index) (5.3.3)\n",
      "Collecting pyasn1-modules>=0.2.1 (from google-auth>=1.0.1->kubernetes>=28.1.0->chromadb<0.5.0,>=0.4.22->llama-index-vector-stores-chroma<0.2.0,>=0.1.1->llama-index-cli<0.2.0,>=0.1.2->llama_index)\n",
      "  Downloading pyasn1_modules-0.3.0-py2.py3-none-any.whl.metadata (3.6 kB)\n",
      "Collecting rsa<5,>=3.1.4 (from google-auth>=1.0.1->kubernetes>=28.1.0->chromadb<0.5.0,>=0.4.22->llama-index-vector-stores-chroma<0.2.0,>=0.1.1->llama-index-cli<0.2.0,>=0.1.2->llama_index)\n",
      "  Downloading rsa-4.9-py3-none-any.whl.metadata (4.2 kB)\n",
      "Requirement already satisfied: zipp>=0.5 in /Users/aboniasojasingarayar/miniconda3/lib/python3.11/site-packages (from importlib-metadata<7.0,>=6.0->opentelemetry-api>=1.2.0->chromadb<0.5.0,>=0.4.22->llama-index-vector-stores-chroma<0.2.0,>=0.1.1->llama-index-cli<0.2.0,>=0.1.2->llama_index) (3.17.0)\n",
      "Collecting pyasn1<0.6.0,>=0.4.6 (from pyasn1-modules>=0.2.1->google-auth>=1.0.1->kubernetes>=28.1.0->chromadb<0.5.0,>=0.4.22->llama-index-vector-stores-chroma<0.2.0,>=0.1.1->llama-index-cli<0.2.0,>=0.1.2->llama_index)\n",
      "  Downloading pyasn1-0.5.1-py2.py3-none-any.whl.metadata (8.6 kB)\n",
      "Downloading llama_index-0.10.16-py3-none-any.whl (5.6 kB)\n",
      "Downloading llama_index_agent_openai-0.1.5-py3-none-any.whl (12 kB)\n",
      "Downloading llama_index_cli-0.1.7-py3-none-any.whl (25 kB)\n",
      "Downloading llama_index_core-0.10.16.post1-py3-none-any.whl (15.3 MB)\n",
      "\u001b[2K   \u001b[90m━━━━━━━━━━━━━━━━━━━━━━━━━━━━━━━━━━━━━━━━\u001b[0m \u001b[32m15.3/15.3 MB\u001b[0m \u001b[31m52.2 MB/s\u001b[0m eta \u001b[36m0:00:00\u001b[0ma \u001b[36m0:00:01\u001b[0m\n",
      "\u001b[?25hDownloading llama_index_embeddings_openai-0.1.6-py3-none-any.whl (6.0 kB)\n",
      "Downloading llama_index_indices_managed_llama_cloud-0.1.3-py3-none-any.whl (6.6 kB)\n",
      "Downloading llama_index_legacy-0.9.48-py3-none-any.whl (2.0 MB)\n",
      "\u001b[2K   \u001b[90m━━━━━━━━━━━━━━━━━━━━━━━━━━━━━━━━━━━━━━━━\u001b[0m \u001b[32m2.0/2.0 MB\u001b[0m \u001b[31m49.5 MB/s\u001b[0m eta \u001b[36m0:00:00\u001b[0m00:01\u001b[0m\n",
      "\u001b[?25hDownloading llama_index_llms_openai-0.1.7-py3-none-any.whl (9.3 kB)\n",
      "Downloading llama_index_multi_modal_llms_openai-0.1.4-py3-none-any.whl (5.8 kB)\n",
      "Downloading llama_index_program_openai-0.1.4-py3-none-any.whl (4.1 kB)\n",
      "Downloading llama_index_question_gen_openai-0.1.3-py3-none-any.whl (2.9 kB)\n",
      "Downloading llama_index_readers_file-0.1.8-py3-none-any.whl (34 kB)\n",
      "Downloading llama_index_readers_llama_parse-0.1.3-py3-none-any.whl (2.5 kB)\n",
      "Downloading beautifulsoup4-4.12.3-py3-none-any.whl (147 kB)\n",
      "\u001b[2K   \u001b[90m━━━━━━━━━━━━━━━━━━━━━━━━━━━━━━━━━━━━━━━━\u001b[0m \u001b[32m147.9/147.9 kB\u001b[0m \u001b[31m20.1 MB/s\u001b[0m eta \u001b[36m0:00:00\u001b[0m\n",
      "\u001b[?25hDownloading bs4-0.0.2-py2.py3-none-any.whl (1.2 kB)\n",
      "Downloading Deprecated-1.2.14-py2.py3-none-any.whl (9.6 kB)\n",
      "Downloading dirtyjson-1.0.8-py3-none-any.whl (25 kB)\n",
      "Downloading llama_index_vector_stores_chroma-0.1.5-py3-none-any.whl (4.7 kB)\n",
      "Downloading llama_parse-0.3.6-py3-none-any.whl (6.2 kB)\n",
      "Downloading llamaindex_py_client-0.1.13-py3-none-any.whl (107 kB)\n",
      "\u001b[2K   \u001b[90m━━━━━━━━━━━━━━━━━━━━━━━━━━━━━━━━━━━━━━━━\u001b[0m \u001b[32m108.0/108.0 kB\u001b[0m \u001b[31m13.5 MB/s\u001b[0m eta \u001b[36m0:00:00\u001b[0m\n",
      "\u001b[?25hDownloading nltk-3.8.1-py3-none-any.whl (1.5 MB)\n",
      "\u001b[2K   \u001b[90m━━━━━━━━━━━━━━━━━━━━━━━━━━━━━━━━━━━━━━━━\u001b[0m \u001b[32m1.5/1.5 MB\u001b[0m \u001b[31m49.6 MB/s\u001b[0m eta \u001b[36m0:00:00\u001b[0m\n",
      "\u001b[?25hDownloading openai-1.13.3-py3-none-any.whl (227 kB)\n",
      "\u001b[2K   \u001b[90m━━━━━━━━━━━━━━━━━━━━━━━━━━━━━━━━━━━━━━━━\u001b[0m \u001b[32m227.4/227.4 kB\u001b[0m \u001b[31m23.6 MB/s\u001b[0m eta \u001b[36m0:00:00\u001b[0m\n",
      "\u001b[?25hDownloading PyMuPDF-1.23.26-cp311-none-macosx_11_0_arm64.whl (3.7 MB)\n",
      "\u001b[2K   \u001b[90m━━━━━━━━━━━━━━━━━━━━━━━━━━━━━━━━━━━━━━━━\u001b[0m \u001b[32m3.7/3.7 MB\u001b[0m \u001b[31m47.0 MB/s\u001b[0m eta \u001b[36m0:00:00\u001b[0ma \u001b[36m0:00:01\u001b[0m\n",
      "\u001b[?25hDownloading PyMuPDFb-1.23.22-py3-none-macosx_11_0_arm64.whl (29.4 MB)\n",
      "\u001b[2K   \u001b[90m━━━━━━━━━━━━━━━━━━━━━━━━━━━━━━━━━━━━━━━━\u001b[0m \u001b[32m29.4/29.4 MB\u001b[0m \u001b[31m46.6 MB/s\u001b[0m eta \u001b[36m0:00:00\u001b[0m00:01\u001b[0m00:01\u001b[0m\n",
      "\u001b[?25hDownloading tqdm-4.66.2-py3-none-any.whl (78 kB)\n",
      "\u001b[2K   \u001b[90m━━━━━━━━━━━━━━━━━━━━━━━━━━━━━━━━━━━━━━━━\u001b[0m \u001b[32m78.3/78.3 kB\u001b[0m \u001b[31m11.2 MB/s\u001b[0m eta \u001b[36m0:00:00\u001b[0m\n",
      "\u001b[?25hDownloading chromadb-0.4.24-py3-none-any.whl (525 kB)\n",
      "\u001b[2K   \u001b[90m━━━━━━━━━━━━━━━━━━━━━━━━━━━━━━━━━━━━━━━━\u001b[0m \u001b[32m525.5/525.5 kB\u001b[0m \u001b[31m28.2 MB/s\u001b[0m eta \u001b[36m0:00:00\u001b[0m\n",
      "\u001b[?25hDownloading chroma_hnswlib-0.7.3-cp311-cp311-macosx_11_0_arm64.whl (198 kB)\n",
      "\u001b[2K   \u001b[90m━━━━━━━━━━━━━━━━━━━━━━━━━━━━━━━━━━━━━━━━\u001b[0m \u001b[32m198.7/198.7 kB\u001b[0m \u001b[31m24.8 MB/s\u001b[0m eta \u001b[36m0:00:00\u001b[0m\n",
      "\u001b[?25hDownloading onnxruntime-1.17.1-cp311-cp311-macosx_11_0_universal2.whl (14.8 MB)\n",
      "\u001b[2K   \u001b[90m━━━━━━━━━━━━━━━━━━━━━━━━━━━━━━━━━━━━━━━━\u001b[0m \u001b[32m14.8/14.8 MB\u001b[0m \u001b[31m53.4 MB/s\u001b[0m eta \u001b[36m0:00:00\u001b[0ma \u001b[36m0:00:01\u001b[0m\n",
      "\u001b[?25hDownloading pydantic-2.6.3-py3-none-any.whl (395 kB)\n",
      "\u001b[2K   \u001b[90m━━━━━━━━━━━━━━━━━━━━━━━━━━━━━━━━━━━━━━━━\u001b[0m \u001b[32m395.2/395.2 kB\u001b[0m \u001b[31m37.6 MB/s\u001b[0m eta \u001b[36m0:00:00\u001b[0m\n",
      "\u001b[?25hDownloading pydantic_core-2.16.3-cp311-cp311-macosx_11_0_arm64.whl (1.7 MB)\n",
      "\u001b[2K   \u001b[90m━━━━━━━━━━━━━━━━━━━━━━━━━━━━━━━━━━━━━━━━\u001b[0m \u001b[32m1.7/1.7 MB\u001b[0m \u001b[31m49.5 MB/s\u001b[0m eta \u001b[36m0:00:00\u001b[0m\n",
      "\u001b[?25hDownloading soupsieve-2.5-py3-none-any.whl (36 kB)\n",
      "Downloading wrapt-1.16.0-cp311-cp311-macosx_11_0_arm64.whl (38 kB)\n",
      "Downloading bcrypt-4.1.2-cp39-abi3-macosx_10_12_universal2.whl (528 kB)\n",
      "\u001b[2K   \u001b[90m━━━━━━━━━━━━━━━━━━━━━━━━━━━━━━━━━━━━━━━━\u001b[0m \u001b[32m528.5/528.5 kB\u001b[0m \u001b[31m40.8 MB/s\u001b[0m eta \u001b[36m0:00:00\u001b[0m\n",
      "\u001b[?25hDownloading build-1.1.1-py3-none-any.whl (19 kB)\n",
      "Downloading grpcio-1.62.0-cp311-cp311-macosx_10_10_universal2.whl (10.0 MB)\n",
      "\u001b[2K   \u001b[90m━━━━━━━━━━━━━━━━━━━━━━━━━━━━━━━━━━━━━━━━\u001b[0m \u001b[32m10.0/10.0 MB\u001b[0m \u001b[31m56.8 MB/s\u001b[0m eta \u001b[36m0:00:00\u001b[0m \u001b[36m0:00:01\u001b[0m\n",
      "\u001b[?25hDownloading kubernetes-29.0.0-py2.py3-none-any.whl (1.6 MB)\n",
      "\u001b[2K   \u001b[90m━━━━━━━━━━━━━━━━━━━━━━━━━━━━━━━━━━━━━━━━\u001b[0m \u001b[32m1.6/1.6 MB\u001b[0m \u001b[31m42.0 MB/s\u001b[0m eta \u001b[36m0:00:00\u001b[0m\n",
      "\u001b[?25hDownloading mmh3-4.1.0-cp311-cp311-macosx_11_0_arm64.whl (30 kB)\n",
      "Downloading opentelemetry_api-1.23.0-py3-none-any.whl (58 kB)\n",
      "\u001b[2K   \u001b[90m━━━━━━━━━━━━━━━━━━━━━━━━━━━━━━━━━━━━━━━━\u001b[0m \u001b[32m58.4/58.4 kB\u001b[0m \u001b[31m9.5 MB/s\u001b[0m eta \u001b[36m0:00:00\u001b[0m\n",
      "\u001b[?25hDownloading opentelemetry_exporter_otlp_proto_grpc-1.23.0-py3-none-any.whl (18 kB)\n",
      "Downloading opentelemetry_exporter_otlp_proto_common-1.23.0-py3-none-any.whl (17 kB)\n",
      "Downloading opentelemetry_proto-1.23.0-py3-none-any.whl (50 kB)\n",
      "\u001b[2K   \u001b[90m━━━━━━━━━━━━━━━━━━━━━━━━━━━━━━━━━━━━━━━━\u001b[0m \u001b[32m50.8/50.8 kB\u001b[0m \u001b[31m6.4 MB/s\u001b[0m eta \u001b[36m0:00:00\u001b[0m\n",
      "\u001b[?25hDownloading opentelemetry_instrumentation_fastapi-0.44b0-py3-none-any.whl (11 kB)\n",
      "Downloading opentelemetry_instrumentation-0.44b0-py3-none-any.whl (28 kB)\n",
      "Downloading opentelemetry_instrumentation_asgi-0.44b0-py3-none-any.whl (14 kB)\n",
      "Downloading opentelemetry_semantic_conventions-0.44b0-py3-none-any.whl (36 kB)\n",
      "Downloading opentelemetry_util_http-0.44b0-py3-none-any.whl (6.9 kB)\n",
      "Downloading opentelemetry_sdk-1.23.0-py3-none-any.whl (105 kB)\n",
      "\u001b[2K   \u001b[90m━━━━━━━━━━━━━━━━━━━━━━━━━━━━━━━━━━━━━━━━\u001b[0m \u001b[32m105.7/105.7 kB\u001b[0m \u001b[31m13.1 MB/s\u001b[0m eta \u001b[36m0:00:00\u001b[0m\n",
      "\u001b[?25hDownloading overrides-7.7.0-py3-none-any.whl (17 kB)\n",
      "Downloading posthog-3.5.0-py2.py3-none-any.whl (41 kB)\n",
      "\u001b[2K   \u001b[90m━━━━━━━━━━━━━━━━━━━━━━━━━━━━━━━━━━━━━━━━\u001b[0m \u001b[32m41.3/41.3 kB\u001b[0m \u001b[31m4.7 MB/s\u001b[0m eta \u001b[36m0:00:00\u001b[0m\n",
      "\u001b[?25hDownloading pulsar_client-3.4.0-cp311-cp311-macosx_10_15_universal2.whl (10.9 MB)\n",
      "\u001b[2K   \u001b[90m━━━━━━━━━━━━━━━━━━━━━━━━━━━━━━━━━━━━━━━━\u001b[0m \u001b[32m10.9/10.9 MB\u001b[0m \u001b[31m55.6 MB/s\u001b[0m eta \u001b[36m0:00:00\u001b[0m00:01\u001b[0m0:01\u001b[0m\n",
      "\u001b[?25hUsing cached typer-0.9.0-py3-none-any.whl (45 kB)\n",
      "Downloading coloredlogs-15.0.1-py2.py3-none-any.whl (46 kB)\n",
      "\u001b[2K   \u001b[90m━━━━━━━━━━━━━━━━━━━━━━━━━━━━━━━━━━━━━━━━\u001b[0m \u001b[32m46.0/46.0 kB\u001b[0m \u001b[31m6.2 MB/s\u001b[0m eta \u001b[36m0:00:00\u001b[0m\n",
      "\u001b[?25hDownloading flatbuffers-23.5.26-py2.py3-none-any.whl (26 kB)\n",
      "Downloading importlib_resources-6.1.2-py3-none-any.whl (34 kB)\n",
      "Downloading backoff-2.2.1-py3-none-any.whl (15 kB)\n",
      "Downloading google_auth-2.28.1-py2.py3-none-any.whl (186 kB)\n",
      "\u001b[2K   \u001b[90m━━━━━━━━━━━━━━━━━━━━━━━━━━━━━━━━━━━━━━━━\u001b[0m \u001b[32m186.9/186.9 kB\u001b[0m \u001b[31m19.3 MB/s\u001b[0m eta \u001b[36m0:00:00\u001b[0m\n",
      "\u001b[?25hDownloading googleapis_common_protos-1.62.0-py2.py3-none-any.whl (228 kB)\n",
      "\u001b[2K   \u001b[90m━━━━━━━━━━━━━━━━━━━━━━━━━━━━━━━━━━━━━━━━\u001b[0m \u001b[32m228.7/228.7 kB\u001b[0m \u001b[31m29.1 MB/s\u001b[0m eta \u001b[36m0:00:00\u001b[0m\n",
      "\u001b[?25hDownloading httptools-0.6.1-cp311-cp311-macosx_10_9_universal2.whl (145 kB)\n",
      "\u001b[2K   \u001b[90m━━━━━━━━━━━━━━━━━━━━━━━━━━━━━━━━━━━━━━━━\u001b[0m \u001b[32m145.9/145.9 kB\u001b[0m \u001b[31m22.1 MB/s\u001b[0m eta \u001b[36m0:00:00\u001b[0m\n",
      "\u001b[?25hDownloading humanfriendly-10.0-py2.py3-none-any.whl (86 kB)\n",
      "\u001b[2K   \u001b[90m━━━━━━━━━━━━━━━━━━━━━━━━━━━━━━━━━━━━━━━━\u001b[0m \u001b[32m86.8/86.8 kB\u001b[0m \u001b[31m11.8 MB/s\u001b[0m eta \u001b[36m0:00:00\u001b[0m\n",
      "\u001b[?25hDownloading importlib_metadata-6.11.0-py3-none-any.whl (23 kB)\n",
      "Downloading monotonic-1.6-py2.py3-none-any.whl (8.2 kB)\n",
      "Downloading oauthlib-3.2.2-py3-none-any.whl (151 kB)\n",
      "\u001b[2K   \u001b[90m━━━━━━━━━━━━━━━━━━━━━━━━━━━━━━━━━━━━━━━━\u001b[0m \u001b[32m151.7/151.7 kB\u001b[0m \u001b[31m17.1 MB/s\u001b[0m eta \u001b[36m0:00:00\u001b[0m\n",
      "\u001b[?25hDownloading uvloop-0.19.0-cp311-cp311-macosx_10_9_universal2.whl (1.4 MB)\n",
      "\u001b[2K   \u001b[90m━━━━━━━━━━━━━━━━━━━━━━━━━━━━━━━━━━━━━━━━\u001b[0m \u001b[32m1.4/1.4 MB\u001b[0m \u001b[31m46.0 MB/s\u001b[0m eta \u001b[36m0:00:00\u001b[0m\n",
      "\u001b[?25hDownloading watchfiles-0.21.0-cp311-cp311-macosx_11_0_arm64.whl (418 kB)\n",
      "\u001b[2K   \u001b[90m━━━━━━━━━━━━━━━━━━━━━━━━━━━━━━━━━━━━━━━━\u001b[0m \u001b[32m418.2/418.2 kB\u001b[0m \u001b[31m37.6 MB/s\u001b[0m eta \u001b[36m0:00:00\u001b[0m\n",
      "\u001b[?25hDownloading websocket_client-1.7.0-py3-none-any.whl (58 kB)\n",
      "\u001b[2K   \u001b[90m━━━━━━━━━━━━━━━━━━━━━━━━━━━━━━━━━━━━━━━━\u001b[0m \u001b[32m58.5/58.5 kB\u001b[0m \u001b[31m9.4 MB/s\u001b[0m eta \u001b[36m0:00:00\u001b[0m\n",
      "\u001b[?25hDownloading websockets-12.0-cp311-cp311-macosx_11_0_arm64.whl (121 kB)\n",
      "\u001b[2K   \u001b[90m━━━━━━━━━━━━━━━━━━━━━━━━━━━━━━━━━━━━━━━━\u001b[0m \u001b[32m121.3/121.3 kB\u001b[0m \u001b[31m20.5 MB/s\u001b[0m eta \u001b[36m0:00:00\u001b[0m\n",
      "\u001b[?25hDownloading pyproject_hooks-1.0.0-py3-none-any.whl (9.3 kB)\n",
      "Downloading requests_oauthlib-1.3.1-py2.py3-none-any.whl (23 kB)\n",
      "Downloading asgiref-3.7.2-py3-none-any.whl (24 kB)\n",
      "Downloading pyasn1_modules-0.3.0-py2.py3-none-any.whl (181 kB)\n",
      "\u001b[2K   \u001b[90m━━━━━━━━━━━━━━━━━━━━━━━━━━━━━━━━━━━━━━━━\u001b[0m \u001b[32m181.3/181.3 kB\u001b[0m \u001b[31m19.8 MB/s\u001b[0m eta \u001b[36m0:00:00\u001b[0m\n",
      "\u001b[?25hDownloading rsa-4.9-py3-none-any.whl (34 kB)\n",
      "Downloading pyasn1-0.5.1-py2.py3-none-any.whl (84 kB)\n",
      "\u001b[2K   \u001b[90m━━━━━━━━━━━━━━━━━━━━━━━━━━━━━━━━━━━━━━━━\u001b[0m \u001b[32m84.9/84.9 kB\u001b[0m \u001b[31m8.7 MB/s\u001b[0m eta \u001b[36m0:00:00\u001b[0m\n",
      "\u001b[?25hBuilding wheels for collected packages: pypika\n",
      "  Building wheel for pypika (pyproject.toml) ... \u001b[?25ldone\n",
      "\u001b[?25h  Created wheel for pypika: filename=PyPika-0.48.9-py2.py3-none-any.whl size=53723 sha256=109f742fdf82ba97d40cdb42b0480b7e31c8db10a8b5ec4928068e1614325b7b\n",
      "  Stored in directory: /Users/aboniasojasingarayar/Library/Caches/pip/wheels/a3/01/bd/4c40ceb9d5354160cb186dcc153360f4ab7eb23e2b24daf96d\n",
      "Successfully built pypika\n",
      "Installing collected packages: pypika, monotonic, mmh3, flatbuffers, dirtyjson, wrapt, websockets, websocket-client, uvloop, typer, tqdm, soupsieve, pyproject_hooks, PyMuPDFb, pydantic-core, pyasn1, pulsar-client, overrides, opentelemetry-util-http, opentelemetry-semantic-conventions, opentelemetry-proto, oauthlib, importlib-resources, importlib-metadata, humanfriendly, httptools, grpcio, googleapis-common-protos, chroma-hnswlib, bcrypt, backoff, asgiref, watchfiles, rsa, requests-oauthlib, pymupdf, pydantic, pyasn1-modules, posthog, opentelemetry-exporter-otlp-proto-common, nltk, deprecated, coloredlogs, build, beautifulsoup4, opentelemetry-api, openai, onnxruntime, llamaindex-py-client, google-auth, bs4, opentelemetry-sdk, opentelemetry-instrumentation, llama-index-legacy, llama-index-core, kubernetes, opentelemetry-instrumentation-asgi, opentelemetry-exporter-otlp-proto-grpc, llama-parse, llama-index-readers-file, llama-index-llms-openai, llama-index-indices-managed-llama-cloud, llama-index-embeddings-openai, opentelemetry-instrumentation-fastapi, llama-index-readers-llama-parse, llama-index-multi-modal-llms-openai, llama-index-agent-openai, llama-index-program-openai, chromadb, llama-index-vector-stores-chroma, llama-index-question-gen-openai, llama-index-cli, llama_index\n",
      "  Attempting uninstall: typer\n",
      "    Found existing installation: typer 0.3.2\n",
      "    Uninstalling typer-0.3.2:\n",
      "      Successfully uninstalled typer-0.3.2\n",
      "  Attempting uninstall: tqdm\n",
      "    Found existing installation: tqdm 4.65.0\n",
      "    Uninstalling tqdm-4.65.0:\n",
      "      Successfully uninstalled tqdm-4.65.0\n",
      "  Attempting uninstall: pydantic-core\n",
      "    Found existing installation: pydantic_core 2.16.2\n",
      "    Uninstalling pydantic_core-2.16.2:\n",
      "      Successfully uninstalled pydantic_core-2.16.2\n",
      "  Attempting uninstall: importlib-metadata\n",
      "    Found existing installation: importlib-metadata 7.0.1\n",
      "    Uninstalling importlib-metadata-7.0.1:\n",
      "      Successfully uninstalled importlib-metadata-7.0.1\n",
      "  Attempting uninstall: pydantic\n",
      "    Found existing installation: pydantic 1.8.2\n",
      "    Uninstalling pydantic-1.8.2:\n",
      "      Successfully uninstalled pydantic-1.8.2\n",
      "\u001b[31mERROR: pip's dependency resolver does not currently take into account all the packages that are installed. This behaviour is the source of the following dependency conflicts.\n",
      "spacy 3.0.9 requires pydantic!=1.8,!=1.8.1,<1.9.0,>=1.7.4, but you have pydantic 2.6.3 which is incompatible.\n",
      "spacy 3.0.9 requires typer<0.4.0,>=0.3.0, but you have typer 0.9.0 which is incompatible.\n",
      "thinc 8.0.17 requires pydantic!=1.8,!=1.8.1,<1.9.0,>=1.7.4, but you have pydantic 2.6.3 which is incompatible.\u001b[0m\u001b[31m\n",
      "\u001b[0mSuccessfully installed PyMuPDFb-1.23.22 asgiref-3.7.2 backoff-2.2.1 bcrypt-4.1.2 beautifulsoup4-4.12.3 bs4-0.0.2 build-1.1.1 chroma-hnswlib-0.7.3 chromadb-0.4.24 coloredlogs-15.0.1 deprecated-1.2.14 dirtyjson-1.0.8 flatbuffers-23.5.26 google-auth-2.28.1 googleapis-common-protos-1.62.0 grpcio-1.62.0 httptools-0.6.1 humanfriendly-10.0 importlib-metadata-6.11.0 importlib-resources-6.1.2 kubernetes-29.0.0 llama-index-agent-openai-0.1.5 llama-index-cli-0.1.7 llama-index-core-0.10.16.post1 llama-index-embeddings-openai-0.1.6 llama-index-indices-managed-llama-cloud-0.1.3 llama-index-legacy-0.9.48 llama-index-llms-openai-0.1.7 llama-index-multi-modal-llms-openai-0.1.4 llama-index-program-openai-0.1.4 llama-index-question-gen-openai-0.1.3 llama-index-readers-file-0.1.8 llama-index-readers-llama-parse-0.1.3 llama-index-vector-stores-chroma-0.1.5 llama-parse-0.3.6 llama_index-0.10.16 llamaindex-py-client-0.1.13 mmh3-4.1.0 monotonic-1.6 nltk-3.8.1 oauthlib-3.2.2 onnxruntime-1.17.1 openai-1.13.3 opentelemetry-api-1.23.0 opentelemetry-exporter-otlp-proto-common-1.23.0 opentelemetry-exporter-otlp-proto-grpc-1.23.0 opentelemetry-instrumentation-0.44b0 opentelemetry-instrumentation-asgi-0.44b0 opentelemetry-instrumentation-fastapi-0.44b0 opentelemetry-proto-1.23.0 opentelemetry-sdk-1.23.0 opentelemetry-semantic-conventions-0.44b0 opentelemetry-util-http-0.44b0 overrides-7.7.0 posthog-3.5.0 pulsar-client-3.4.0 pyasn1-0.5.1 pyasn1-modules-0.3.0 pydantic-2.6.3 pydantic-core-2.16.3 pymupdf-1.23.26 pypika-0.48.9 pyproject_hooks-1.0.0 requests-oauthlib-1.3.1 rsa-4.9 soupsieve-2.5 tqdm-4.66.2 typer-0.9.0 uvloop-0.19.0 watchfiles-0.21.0 websocket-client-1.7.0 websockets-12.0 wrapt-1.16.0\n",
      "Note: you may need to restart the kernel to use updated packages.\n"
     ]
    }
   ],
   "source": [
    "pip install llama_index"
   ]
  },
  {
   "cell_type": "code",
   "execution_count": 23,
   "metadata": {},
   "outputs": [
    {
     "name": "stderr",
     "output_type": "stream",
     "text": [
      "huggingface/tokenizers: The current process just got forked, after parallelism has already been used. Disabling parallelism to avoid deadlocks...\n",
      "To disable this warning, you can either:\n",
      "\t- Avoid using `tokenizers` before the fork if possible\n",
      "\t- Explicitly set the environment variable TOKENIZERS_PARALLELISM=(true | false)\n"
     ]
    },
    {
     "name": "stdout",
     "output_type": "stream",
     "text": [
      "Collecting llama-index-postprocessor-flag-embedding-reranker\n",
      "  Downloading llama_index_postprocessor_flag_embedding_reranker-0.1.2-py3-none-any.whl.metadata (714 bytes)\n",
      "Requirement already satisfied: llama-index-core<0.11.0,>=0.10.1 in /Users/aboniasojasingarayar/miniconda3/lib/python3.11/site-packages (from llama-index-postprocessor-flag-embedding-reranker) (0.10.16.post1)\n",
      "Requirement already satisfied: PyYAML>=6.0.1 in /Users/aboniasojasingarayar/miniconda3/lib/python3.11/site-packages (from llama-index-core<0.11.0,>=0.10.1->llama-index-postprocessor-flag-embedding-reranker) (6.0.1)\n",
      "Requirement already satisfied: SQLAlchemy>=1.4.49 in /Users/aboniasojasingarayar/miniconda3/lib/python3.11/site-packages (from SQLAlchemy[asyncio]>=1.4.49->llama-index-core<0.11.0,>=0.10.1->llama-index-postprocessor-flag-embedding-reranker) (2.0.27)\n",
      "Requirement already satisfied: aiohttp<4.0.0,>=3.8.6 in /Users/aboniasojasingarayar/miniconda3/lib/python3.11/site-packages (from llama-index-core<0.11.0,>=0.10.1->llama-index-postprocessor-flag-embedding-reranker) (3.9.3)\n",
      "Requirement already satisfied: dataclasses-json in /Users/aboniasojasingarayar/miniconda3/lib/python3.11/site-packages (from llama-index-core<0.11.0,>=0.10.1->llama-index-postprocessor-flag-embedding-reranker) (0.6.4)\n",
      "Requirement already satisfied: deprecated>=1.2.9.3 in /Users/aboniasojasingarayar/miniconda3/lib/python3.11/site-packages (from llama-index-core<0.11.0,>=0.10.1->llama-index-postprocessor-flag-embedding-reranker) (1.2.14)\n",
      "Requirement already satisfied: dirtyjson<2.0.0,>=1.0.8 in /Users/aboniasojasingarayar/miniconda3/lib/python3.11/site-packages (from llama-index-core<0.11.0,>=0.10.1->llama-index-postprocessor-flag-embedding-reranker) (1.0.8)\n",
      "Requirement already satisfied: fsspec>=2023.5.0 in /Users/aboniasojasingarayar/miniconda3/lib/python3.11/site-packages (from llama-index-core<0.11.0,>=0.10.1->llama-index-postprocessor-flag-embedding-reranker) (2024.2.0)\n",
      "Requirement already satisfied: httpx in /Users/aboniasojasingarayar/miniconda3/lib/python3.11/site-packages (from llama-index-core<0.11.0,>=0.10.1->llama-index-postprocessor-flag-embedding-reranker) (0.27.0)\n",
      "Requirement already satisfied: llamaindex-py-client<0.2.0,>=0.1.13 in /Users/aboniasojasingarayar/miniconda3/lib/python3.11/site-packages (from llama-index-core<0.11.0,>=0.10.1->llama-index-postprocessor-flag-embedding-reranker) (0.1.13)\n",
      "Requirement already satisfied: nest-asyncio<2.0.0,>=1.5.8 in /Users/aboniasojasingarayar/miniconda3/lib/python3.11/site-packages (from llama-index-core<0.11.0,>=0.10.1->llama-index-postprocessor-flag-embedding-reranker) (1.6.0)\n",
      "Requirement already satisfied: networkx>=3.0 in /Users/aboniasojasingarayar/miniconda3/lib/python3.11/site-packages (from llama-index-core<0.11.0,>=0.10.1->llama-index-postprocessor-flag-embedding-reranker) (3.2.1)\n",
      "Requirement already satisfied: nltk<4.0.0,>=3.8.1 in /Users/aboniasojasingarayar/miniconda3/lib/python3.11/site-packages (from llama-index-core<0.11.0,>=0.10.1->llama-index-postprocessor-flag-embedding-reranker) (3.8.1)\n",
      "Requirement already satisfied: numpy in /Users/aboniasojasingarayar/miniconda3/lib/python3.11/site-packages (from llama-index-core<0.11.0,>=0.10.1->llama-index-postprocessor-flag-embedding-reranker) (1.26.4)\n",
      "Requirement already satisfied: openai>=1.1.0 in /Users/aboniasojasingarayar/miniconda3/lib/python3.11/site-packages (from llama-index-core<0.11.0,>=0.10.1->llama-index-postprocessor-flag-embedding-reranker) (1.13.3)\n",
      "Requirement already satisfied: pandas in /Users/aboniasojasingarayar/miniconda3/lib/python3.11/site-packages (from llama-index-core<0.11.0,>=0.10.1->llama-index-postprocessor-flag-embedding-reranker) (2.2.1)\n",
      "Requirement already satisfied: pillow>=9.0.0 in /Users/aboniasojasingarayar/miniconda3/lib/python3.11/site-packages (from llama-index-core<0.11.0,>=0.10.1->llama-index-postprocessor-flag-embedding-reranker) (10.2.0)\n",
      "Requirement already satisfied: requests>=2.31.0 in /Users/aboniasojasingarayar/miniconda3/lib/python3.11/site-packages (from llama-index-core<0.11.0,>=0.10.1->llama-index-postprocessor-flag-embedding-reranker) (2.31.0)\n",
      "Requirement already satisfied: tenacity<9.0.0,>=8.2.0 in /Users/aboniasojasingarayar/miniconda3/lib/python3.11/site-packages (from llama-index-core<0.11.0,>=0.10.1->llama-index-postprocessor-flag-embedding-reranker) (8.2.3)\n",
      "Requirement already satisfied: tiktoken>=0.3.3 in /Users/aboniasojasingarayar/miniconda3/lib/python3.11/site-packages (from llama-index-core<0.11.0,>=0.10.1->llama-index-postprocessor-flag-embedding-reranker) (0.6.0)\n",
      "Requirement already satisfied: tqdm<5.0.0,>=4.66.1 in /Users/aboniasojasingarayar/miniconda3/lib/python3.11/site-packages (from llama-index-core<0.11.0,>=0.10.1->llama-index-postprocessor-flag-embedding-reranker) (4.66.2)\n",
      "Requirement already satisfied: typing-extensions>=4.5.0 in /Users/aboniasojasingarayar/miniconda3/lib/python3.11/site-packages (from llama-index-core<0.11.0,>=0.10.1->llama-index-postprocessor-flag-embedding-reranker) (4.9.0)\n",
      "Requirement already satisfied: typing-inspect>=0.8.0 in /Users/aboniasojasingarayar/miniconda3/lib/python3.11/site-packages (from llama-index-core<0.11.0,>=0.10.1->llama-index-postprocessor-flag-embedding-reranker) (0.9.0)\n",
      "Requirement already satisfied: aiosignal>=1.1.2 in /Users/aboniasojasingarayar/miniconda3/lib/python3.11/site-packages (from aiohttp<4.0.0,>=3.8.6->llama-index-core<0.11.0,>=0.10.1->llama-index-postprocessor-flag-embedding-reranker) (1.3.1)\n",
      "Requirement already satisfied: attrs>=17.3.0 in /Users/aboniasojasingarayar/miniconda3/lib/python3.11/site-packages (from aiohttp<4.0.0,>=3.8.6->llama-index-core<0.11.0,>=0.10.1->llama-index-postprocessor-flag-embedding-reranker) (23.2.0)\n",
      "Requirement already satisfied: frozenlist>=1.1.1 in /Users/aboniasojasingarayar/miniconda3/lib/python3.11/site-packages (from aiohttp<4.0.0,>=3.8.6->llama-index-core<0.11.0,>=0.10.1->llama-index-postprocessor-flag-embedding-reranker) (1.4.1)\n",
      "Requirement already satisfied: multidict<7.0,>=4.5 in /Users/aboniasojasingarayar/miniconda3/lib/python3.11/site-packages (from aiohttp<4.0.0,>=3.8.6->llama-index-core<0.11.0,>=0.10.1->llama-index-postprocessor-flag-embedding-reranker) (6.0.5)\n",
      "Requirement already satisfied: yarl<2.0,>=1.0 in /Users/aboniasojasingarayar/miniconda3/lib/python3.11/site-packages (from aiohttp<4.0.0,>=3.8.6->llama-index-core<0.11.0,>=0.10.1->llama-index-postprocessor-flag-embedding-reranker) (1.9.4)\n",
      "Requirement already satisfied: wrapt<2,>=1.10 in /Users/aboniasojasingarayar/miniconda3/lib/python3.11/site-packages (from deprecated>=1.2.9.3->llama-index-core<0.11.0,>=0.10.1->llama-index-postprocessor-flag-embedding-reranker) (1.16.0)\n",
      "Requirement already satisfied: pydantic>=1.10 in /Users/aboniasojasingarayar/miniconda3/lib/python3.11/site-packages (from llamaindex-py-client<0.2.0,>=0.1.13->llama-index-core<0.11.0,>=0.10.1->llama-index-postprocessor-flag-embedding-reranker) (2.6.3)\n",
      "Requirement already satisfied: anyio in /Users/aboniasojasingarayar/miniconda3/lib/python3.11/site-packages (from httpx->llama-index-core<0.11.0,>=0.10.1->llama-index-postprocessor-flag-embedding-reranker) (4.3.0)\n",
      "Requirement already satisfied: certifi in /Users/aboniasojasingarayar/miniconda3/lib/python3.11/site-packages (from httpx->llama-index-core<0.11.0,>=0.10.1->llama-index-postprocessor-flag-embedding-reranker) (2024.2.2)\n",
      "Requirement already satisfied: httpcore==1.* in /Users/aboniasojasingarayar/miniconda3/lib/python3.11/site-packages (from httpx->llama-index-core<0.11.0,>=0.10.1->llama-index-postprocessor-flag-embedding-reranker) (1.0.4)\n",
      "Requirement already satisfied: idna in /Users/aboniasojasingarayar/miniconda3/lib/python3.11/site-packages (from httpx->llama-index-core<0.11.0,>=0.10.1->llama-index-postprocessor-flag-embedding-reranker) (3.4)\n",
      "Requirement already satisfied: sniffio in /Users/aboniasojasingarayar/miniconda3/lib/python3.11/site-packages (from httpx->llama-index-core<0.11.0,>=0.10.1->llama-index-postprocessor-flag-embedding-reranker) (1.3.0)\n",
      "Requirement already satisfied: h11<0.15,>=0.13 in /Users/aboniasojasingarayar/miniconda3/lib/python3.11/site-packages (from httpcore==1.*->httpx->llama-index-core<0.11.0,>=0.10.1->llama-index-postprocessor-flag-embedding-reranker) (0.14.0)\n",
      "Requirement already satisfied: click in /Users/aboniasojasingarayar/miniconda3/lib/python3.11/site-packages (from nltk<4.0.0,>=3.8.1->llama-index-core<0.11.0,>=0.10.1->llama-index-postprocessor-flag-embedding-reranker) (7.1.2)\n",
      "Requirement already satisfied: joblib in /Users/aboniasojasingarayar/miniconda3/lib/python3.11/site-packages (from nltk<4.0.0,>=3.8.1->llama-index-core<0.11.0,>=0.10.1->llama-index-postprocessor-flag-embedding-reranker) (1.3.2)\n",
      "Requirement already satisfied: regex>=2021.8.3 in /Users/aboniasojasingarayar/miniconda3/lib/python3.11/site-packages (from nltk<4.0.0,>=3.8.1->llama-index-core<0.11.0,>=0.10.1->llama-index-postprocessor-flag-embedding-reranker) (2023.12.25)\n",
      "Requirement already satisfied: distro<2,>=1.7.0 in /Users/aboniasojasingarayar/miniconda3/lib/python3.11/site-packages (from openai>=1.1.0->llama-index-core<0.11.0,>=0.10.1->llama-index-postprocessor-flag-embedding-reranker) (1.8.0)\n",
      "Requirement already satisfied: charset-normalizer<4,>=2 in /Users/aboniasojasingarayar/miniconda3/lib/python3.11/site-packages (from requests>=2.31.0->llama-index-core<0.11.0,>=0.10.1->llama-index-postprocessor-flag-embedding-reranker) (2.0.4)\n",
      "Requirement already satisfied: urllib3<3,>=1.21.1 in /Users/aboniasojasingarayar/miniconda3/lib/python3.11/site-packages (from requests>=2.31.0->llama-index-core<0.11.0,>=0.10.1->llama-index-postprocessor-flag-embedding-reranker) (1.26.18)\n",
      "Requirement already satisfied: greenlet!=0.4.17 in /Users/aboniasojasingarayar/miniconda3/lib/python3.11/site-packages (from SQLAlchemy[asyncio]>=1.4.49->llama-index-core<0.11.0,>=0.10.1->llama-index-postprocessor-flag-embedding-reranker) (3.0.3)\n",
      "Requirement already satisfied: mypy-extensions>=0.3.0 in /Users/aboniasojasingarayar/miniconda3/lib/python3.11/site-packages (from typing-inspect>=0.8.0->llama-index-core<0.11.0,>=0.10.1->llama-index-postprocessor-flag-embedding-reranker) (1.0.0)\n",
      "Requirement already satisfied: marshmallow<4.0.0,>=3.18.0 in /Users/aboniasojasingarayar/miniconda3/lib/python3.11/site-packages (from dataclasses-json->llama-index-core<0.11.0,>=0.10.1->llama-index-postprocessor-flag-embedding-reranker) (3.20.2)\n",
      "Requirement already satisfied: python-dateutil>=2.8.2 in /Users/aboniasojasingarayar/miniconda3/lib/python3.11/site-packages (from pandas->llama-index-core<0.11.0,>=0.10.1->llama-index-postprocessor-flag-embedding-reranker) (2.8.2)\n",
      "Requirement already satisfied: pytz>=2020.1 in /Users/aboniasojasingarayar/miniconda3/lib/python3.11/site-packages (from pandas->llama-index-core<0.11.0,>=0.10.1->llama-index-postprocessor-flag-embedding-reranker) (2024.1)\n",
      "Requirement already satisfied: tzdata>=2022.7 in /Users/aboniasojasingarayar/miniconda3/lib/python3.11/site-packages (from pandas->llama-index-core<0.11.0,>=0.10.1->llama-index-postprocessor-flag-embedding-reranker) (2024.1)\n",
      "Requirement already satisfied: packaging>=17.0 in /Users/aboniasojasingarayar/miniconda3/lib/python3.11/site-packages (from marshmallow<4.0.0,>=3.18.0->dataclasses-json->llama-index-core<0.11.0,>=0.10.1->llama-index-postprocessor-flag-embedding-reranker) (23.2)\n",
      "Requirement already satisfied: annotated-types>=0.4.0 in /Users/aboniasojasingarayar/miniconda3/lib/python3.11/site-packages (from pydantic>=1.10->llamaindex-py-client<0.2.0,>=0.1.13->llama-index-core<0.11.0,>=0.10.1->llama-index-postprocessor-flag-embedding-reranker) (0.6.0)\n",
      "Requirement already satisfied: pydantic-core==2.16.3 in /Users/aboniasojasingarayar/miniconda3/lib/python3.11/site-packages (from pydantic>=1.10->llamaindex-py-client<0.2.0,>=0.1.13->llama-index-core<0.11.0,>=0.10.1->llama-index-postprocessor-flag-embedding-reranker) (2.16.3)\n",
      "Requirement already satisfied: six>=1.5 in /Users/aboniasojasingarayar/miniconda3/lib/python3.11/site-packages (from python-dateutil>=2.8.2->pandas->llama-index-core<0.11.0,>=0.10.1->llama-index-postprocessor-flag-embedding-reranker) (1.16.0)\n",
      "Downloading llama_index_postprocessor_flag_embedding_reranker-0.1.2-py3-none-any.whl (2.9 kB)\n",
      "Installing collected packages: llama-index-postprocessor-flag-embedding-reranker\n",
      "Successfully installed llama-index-postprocessor-flag-embedding-reranker-0.1.2\n",
      "Note: you may need to restart the kernel to use updated packages.\n"
     ]
    }
   ],
   "source": [
    "pip install llama-index-postprocessor-flag-embedding-reranker"
   ]
  },
  {
   "cell_type": "code",
   "execution_count": 25,
   "metadata": {},
   "outputs": [
    {
     "name": "stdout",
     "output_type": "stream",
     "text": [
      "Convolutional Neural Networks (CNNs) are commonly used in computer vision tasks. -> Score: 4.203321933746338\n",
      "Recurrent Neural Networks (RNNs) are often used in sequential data analysis, such as natural language processing. -> Score: 3.46016788482666\n",
      "Transformers have gained popularity in NLP tasks due to their ability to handle long-range dependencies efficiently. -> Score: -0.8046585917472839\n"
     ]
    }
   ],
   "source": [
    "from llama_index.postprocessor.flag_embedding_reranker import FlagEmbeddingReranker\n",
    "from llama_index.core.schema import NodeWithScore, QueryBundle, TextNode\n",
    "\n",
    "# Step 1: Import and Initialize\n",
    "reranker = FlagEmbeddingReranker(\n",
    "    top_n=3,\n",
    "    model=\"BAAI/bge-reranker-large\",\n",
    "    use_fp16=False\n",
    ")\n",
    "\n",
    "# Step 2: Prepare Nodes and Query\n",
    "documents = [\n",
    "    \"Deep Learning is a subset of machine learning that focuses on learning representations of data.\",\n",
    "    \"Convolutional Neural Networks (CNNs) are commonly used in computer vision tasks.\",\n",
    "    \"Recurrent Neural Networks (RNNs) are often used in sequential data analysis, such as natural language processing.\",\n",
    "    \"Transformers have gained popularity in NLP tasks due to their ability to handle long-range dependencies efficiently.\"\n",
    "]\n",
    "\n",
    "nodes = [NodeWithScore(node=TextNode(text=doc)) for doc in documents]\n",
    "query = \"What are the different types of neural networks?\"\n",
    "\n",
    "# Step 3: Re-Rank Nodes\n",
    "query_bundle = QueryBundle(query_str=query)\n",
    "ranked_nodes = reranker._postprocess_nodes(nodes, query_bundle)\n",
    "\n",
    "# Step 4: Analyze Results\n",
    "for node in ranked_nodes:\n",
    "    print(node.node.get_content(), \"-> Score:\", node.score)\n"
   ]
  },
  {
   "cell_type": "code",
   "execution_count": null,
   "metadata": {},
   "outputs": [],
   "source": []
  }
 ],
 "metadata": {
  "kernelspec": {
   "display_name": "base",
   "language": "python",
   "name": "python3"
  },
  "language_info": {
   "codemirror_mode": {
    "name": "ipython",
    "version": 3
   },
   "file_extension": ".py",
   "mimetype": "text/x-python",
   "name": "python",
   "nbconvert_exporter": "python",
   "pygments_lexer": "ipython3",
   "version": "3.11.8"
  }
 },
 "nbformat": 4,
 "nbformat_minor": 2
}
