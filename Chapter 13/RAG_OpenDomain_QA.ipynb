{
  "cells": [
    {
      "cell_type": "code",
      "execution_count": 10,
      "metadata": {
        "colab": {
          "base_uri": "https://localhost:8080/"
        },
        "id": "2pMkgvG-ptE-",
        "outputId": "d73929e8-08c2-4954-dd75-9e0f8096ada9"
      },
      "outputs": [
        {
          "name": "stderr",
          "output_type": "stream",
          "text": [
            "huggingface/tokenizers: The current process just got forked, after parallelism has already been used. Disabling parallelism to avoid deadlocks...\n",
            "To disable this warning, you can either:\n",
            "\t- Avoid using `tokenizers` before the fork if possible\n",
            "\t- Explicitly set the environment variable TOKENIZERS_PARALLELISM=(true | false)\n"
          ]
        },
        {
          "name": "stdout",
          "output_type": "stream",
          "text": [
            "Requirement already satisfied: nest_asyncio in /Users/aboniasojasingarayar/miniconda3/lib/python3.11/site-packages (1.6.0)\n",
            "Requirement already satisfied: langchain_community in /Users/aboniasojasingarayar/miniconda3/lib/python3.11/site-packages (0.0.21)\n",
            "Requirement already satisfied: langchain in /Users/aboniasojasingarayar/miniconda3/lib/python3.11/site-packages (0.1.8)\n",
            "Requirement already satisfied: playwright in /Users/aboniasojasingarayar/miniconda3/lib/python3.11/site-packages (1.41.2)\n",
            "Requirement already satisfied: html2text in /Users/aboniasojasingarayar/miniconda3/lib/python3.11/site-packages (2024.2.26)\n",
            "Requirement already satisfied: sentence-transformers in /Users/aboniasojasingarayar/miniconda3/lib/python3.11/site-packages (2.4.0)\n",
            "Requirement already satisfied: faiss-cpu in /Users/aboniasojasingarayar/miniconda3/lib/python3.11/site-packages (1.7.4)\n",
            "Requirement already satisfied: PyYAML>=5.3 in /Users/aboniasojasingarayar/miniconda3/lib/python3.11/site-packages (from langchain_community) (6.0.1)\n",
            "Requirement already satisfied: SQLAlchemy<3,>=1.4 in /Users/aboniasojasingarayar/miniconda3/lib/python3.11/site-packages (from langchain_community) (2.0.27)\n",
            "Requirement already satisfied: aiohttp<4.0.0,>=3.8.3 in /Users/aboniasojasingarayar/miniconda3/lib/python3.11/site-packages (from langchain_community) (3.9.3)\n",
            "Requirement already satisfied: dataclasses-json<0.7,>=0.5.7 in /Users/aboniasojasingarayar/miniconda3/lib/python3.11/site-packages (from langchain_community) (0.6.4)\n",
            "Requirement already satisfied: langchain-core<0.2,>=0.1.24 in /Users/aboniasojasingarayar/miniconda3/lib/python3.11/site-packages (from langchain_community) (0.1.25)\n",
            "Requirement already satisfied: langsmith<0.2.0,>=0.1.0 in /Users/aboniasojasingarayar/miniconda3/lib/python3.11/site-packages (from langchain_community) (0.1.5)\n",
            "Requirement already satisfied: numpy<2,>=1 in /Users/aboniasojasingarayar/miniconda3/lib/python3.11/site-packages (from langchain_community) (1.26.4)\n",
            "Requirement already satisfied: requests<3,>=2 in /Users/aboniasojasingarayar/miniconda3/lib/python3.11/site-packages (from langchain_community) (2.31.0)\n",
            "Requirement already satisfied: tenacity<9.0.0,>=8.1.0 in /Users/aboniasojasingarayar/miniconda3/lib/python3.11/site-packages (from langchain_community) (8.2.3)\n",
            "Requirement already satisfied: jsonpatch<2.0,>=1.33 in /Users/aboniasojasingarayar/miniconda3/lib/python3.11/site-packages (from langchain) (1.33)\n",
            "Requirement already satisfied: pydantic<3,>=1 in /Users/aboniasojasingarayar/miniconda3/lib/python3.11/site-packages (from langchain) (2.6.1)\n",
            "Requirement already satisfied: greenlet==3.0.3 in /Users/aboniasojasingarayar/miniconda3/lib/python3.11/site-packages (from playwright) (3.0.3)\n",
            "Requirement already satisfied: pyee==11.0.1 in /Users/aboniasojasingarayar/miniconda3/lib/python3.11/site-packages (from playwright) (11.0.1)\n",
            "Requirement already satisfied: typing-extensions in /Users/aboniasojasingarayar/miniconda3/lib/python3.11/site-packages (from pyee==11.0.1->playwright) (4.9.0)\n",
            "Requirement already satisfied: transformers<5.0.0,>=4.32.0 in /Users/aboniasojasingarayar/miniconda3/lib/python3.11/site-packages (from sentence-transformers) (4.38.1)\n",
            "Requirement already satisfied: tqdm in /Users/aboniasojasingarayar/miniconda3/lib/python3.11/site-packages (from sentence-transformers) (4.65.0)\n",
            "Requirement already satisfied: torch>=1.11.0 in /Users/aboniasojasingarayar/miniconda3/lib/python3.11/site-packages (from sentence-transformers) (2.2.1)\n",
            "Requirement already satisfied: scikit-learn in /Users/aboniasojasingarayar/miniconda3/lib/python3.11/site-packages (from sentence-transformers) (1.4.1.post1)\n",
            "Requirement already satisfied: scipy in /Users/aboniasojasingarayar/miniconda3/lib/python3.11/site-packages (from sentence-transformers) (1.12.0)\n",
            "Requirement already satisfied: huggingface-hub>=0.15.1 in /Users/aboniasojasingarayar/miniconda3/lib/python3.11/site-packages (from sentence-transformers) (0.21.3)\n",
            "Requirement already satisfied: Pillow in /Users/aboniasojasingarayar/miniconda3/lib/python3.11/site-packages (from sentence-transformers) (10.2.0)\n",
            "Requirement already satisfied: aiosignal>=1.1.2 in /Users/aboniasojasingarayar/miniconda3/lib/python3.11/site-packages (from aiohttp<4.0.0,>=3.8.3->langchain_community) (1.3.1)\n",
            "Requirement already satisfied: attrs>=17.3.0 in /Users/aboniasojasingarayar/miniconda3/lib/python3.11/site-packages (from aiohttp<4.0.0,>=3.8.3->langchain_community) (23.2.0)\n",
            "Requirement already satisfied: frozenlist>=1.1.1 in /Users/aboniasojasingarayar/miniconda3/lib/python3.11/site-packages (from aiohttp<4.0.0,>=3.8.3->langchain_community) (1.4.1)\n",
            "Requirement already satisfied: multidict<7.0,>=4.5 in /Users/aboniasojasingarayar/miniconda3/lib/python3.11/site-packages (from aiohttp<4.0.0,>=3.8.3->langchain_community) (6.0.5)\n",
            "Requirement already satisfied: yarl<2.0,>=1.0 in /Users/aboniasojasingarayar/miniconda3/lib/python3.11/site-packages (from aiohttp<4.0.0,>=3.8.3->langchain_community) (1.9.4)\n",
            "Requirement already satisfied: marshmallow<4.0.0,>=3.18.0 in /Users/aboniasojasingarayar/miniconda3/lib/python3.11/site-packages (from dataclasses-json<0.7,>=0.5.7->langchain_community) (3.20.2)\n",
            "Requirement already satisfied: typing-inspect<1,>=0.4.0 in /Users/aboniasojasingarayar/miniconda3/lib/python3.11/site-packages (from dataclasses-json<0.7,>=0.5.7->langchain_community) (0.9.0)\n",
            "Requirement already satisfied: filelock in /Users/aboniasojasingarayar/miniconda3/lib/python3.11/site-packages (from huggingface-hub>=0.15.1->sentence-transformers) (3.13.1)\n",
            "Requirement already satisfied: fsspec>=2023.5.0 in /Users/aboniasojasingarayar/miniconda3/lib/python3.11/site-packages (from huggingface-hub>=0.15.1->sentence-transformers) (2024.2.0)\n",
            "Requirement already satisfied: packaging>=20.9 in /Users/aboniasojasingarayar/miniconda3/lib/python3.11/site-packages (from huggingface-hub>=0.15.1->sentence-transformers) (23.2)\n",
            "Requirement already satisfied: jsonpointer>=1.9 in /Users/aboniasojasingarayar/miniconda3/lib/python3.11/site-packages (from jsonpatch<2.0,>=1.33->langchain) (2.1)\n",
            "Requirement already satisfied: anyio<5,>=3 in /Users/aboniasojasingarayar/miniconda3/lib/python3.11/site-packages (from langchain-core<0.2,>=0.1.24->langchain_community) (4.3.0)\n",
            "Requirement already satisfied: annotated-types>=0.4.0 in /Users/aboniasojasingarayar/miniconda3/lib/python3.11/site-packages (from pydantic<3,>=1->langchain) (0.6.0)\n",
            "Requirement already satisfied: pydantic-core==2.16.2 in /Users/aboniasojasingarayar/miniconda3/lib/python3.11/site-packages (from pydantic<3,>=1->langchain) (2.16.2)\n",
            "Requirement already satisfied: charset-normalizer<4,>=2 in /Users/aboniasojasingarayar/miniconda3/lib/python3.11/site-packages (from requests<3,>=2->langchain_community) (2.0.4)\n",
            "Requirement already satisfied: idna<4,>=2.5 in /Users/aboniasojasingarayar/miniconda3/lib/python3.11/site-packages (from requests<3,>=2->langchain_community) (3.4)\n",
            "Requirement already satisfied: urllib3<3,>=1.21.1 in /Users/aboniasojasingarayar/miniconda3/lib/python3.11/site-packages (from requests<3,>=2->langchain_community) (1.26.18)\n",
            "Requirement already satisfied: certifi>=2017.4.17 in /Users/aboniasojasingarayar/miniconda3/lib/python3.11/site-packages (from requests<3,>=2->langchain_community) (2024.2.2)\n",
            "Requirement already satisfied: sympy in /Users/aboniasojasingarayar/miniconda3/lib/python3.11/site-packages (from torch>=1.11.0->sentence-transformers) (1.12)\n",
            "Requirement already satisfied: networkx in /Users/aboniasojasingarayar/miniconda3/lib/python3.11/site-packages (from torch>=1.11.0->sentence-transformers) (3.2.1)\n",
            "Requirement already satisfied: jinja2 in /Users/aboniasojasingarayar/miniconda3/lib/python3.11/site-packages (from torch>=1.11.0->sentence-transformers) (3.1.3)\n",
            "Requirement already satisfied: regex!=2019.12.17 in /Users/aboniasojasingarayar/miniconda3/lib/python3.11/site-packages (from transformers<5.0.0,>=4.32.0->sentence-transformers) (2023.12.25)\n",
            "Requirement already satisfied: tokenizers<0.19,>=0.14 in /Users/aboniasojasingarayar/miniconda3/lib/python3.11/site-packages (from transformers<5.0.0,>=4.32.0->sentence-transformers) (0.15.2)\n",
            "Requirement already satisfied: safetensors>=0.4.1 in /Users/aboniasojasingarayar/miniconda3/lib/python3.11/site-packages (from transformers<5.0.0,>=4.32.0->sentence-transformers) (0.4.2)\n",
            "Requirement already satisfied: joblib>=1.2.0 in /Users/aboniasojasingarayar/miniconda3/lib/python3.11/site-packages (from scikit-learn->sentence-transformers) (1.3.2)\n",
            "Requirement already satisfied: threadpoolctl>=2.0.0 in /Users/aboniasojasingarayar/miniconda3/lib/python3.11/site-packages (from scikit-learn->sentence-transformers) (3.3.0)\n",
            "Requirement already satisfied: sniffio>=1.1 in /Users/aboniasojasingarayar/miniconda3/lib/python3.11/site-packages (from anyio<5,>=3->langchain-core<0.2,>=0.1.24->langchain_community) (1.3.0)\n",
            "Requirement already satisfied: mypy-extensions>=0.3.0 in /Users/aboniasojasingarayar/miniconda3/lib/python3.11/site-packages (from typing-inspect<1,>=0.4.0->dataclasses-json<0.7,>=0.5.7->langchain_community) (1.0.0)\n",
            "Requirement already satisfied: MarkupSafe>=2.0 in /Users/aboniasojasingarayar/miniconda3/lib/python3.11/site-packages (from jinja2->torch>=1.11.0->sentence-transformers) (2.1.5)\n",
            "Requirement already satisfied: mpmath>=0.19 in /Users/aboniasojasingarayar/miniconda3/lib/python3.11/site-packages (from sympy->torch>=1.11.0->sentence-transformers) (1.3.0)\n"
          ]
        }
      ],
      "source": [
        "!pip install nest_asyncio langchain_community langchain playwright html2text sentence-transformers faiss-cpu"
      ]
    },
    {
      "cell_type": "code",
      "execution_count": 4,
      "metadata": {
        "colab": {
          "base_uri": "https://localhost:8080/"
        },
        "id": "wESAfUKoqc9e",
        "outputId": "87062352-9646-4dbf-e834-e6912919d7ab"
      },
      "outputs": [
        {
          "name": "stdout",
          "output_type": "stream",
          "text": [
            "Downloading Chromium 121.0.6167.57 (playwright build v1097)\u001b[2m from https://playwright.azureedge.net/builds/chromium/1097/chromium-mac-arm64.zip\u001b[22m\n",
            "\u001b[1G130.8 MiB [                    ] 0% 0.0s\u001b[0K\u001b[1G130.8 MiB [                    ] 0% 17.8s\u001b[0K\u001b[1G130.8 MiB [                    ] 0% 12.4s\u001b[0K\u001b[1G130.8 MiB [                    ] 0% 11.5s\u001b[0K\u001b[1G130.8 MiB [                    ] 0% 10.2s\u001b[0K\u001b[1G130.8 MiB [                    ] 0% 9.8s\u001b[0K\u001b[1G130.8 MiB [                    ] 1% 8.9s\u001b[0K\u001b[1G130.8 MiB [                    ] 1% 8.5s\u001b[0K\u001b[1G130.8 MiB [                    ] 1% 8.1s\u001b[0K\u001b[1G130.8 MiB [                    ] 1% 7.5s\u001b[0K\u001b[1G130.8 MiB [                    ] 2% 7.2s\u001b[0K\u001b[1G130.8 MiB [=                   ] 2% 6.8s\u001b[0K\u001b[1G130.8 MiB [=                   ] 3% 6.4s\u001b[0K\u001b[1G130.8 MiB [=                   ] 3% 6.1s\u001b[0K\u001b[1G130.8 MiB [=                   ] 3% 5.7s\u001b[0K\u001b[1G130.8 MiB [=                   ] 4% 5.4s\u001b[0K\u001b[1G130.8 MiB [=                   ] 4% 5.2s\u001b[0K\u001b[1G130.8 MiB [=                   ] 5% 5.0s\u001b[0K\u001b[1G130.8 MiB [=                   ] 5% 4.7s\u001b[0K\u001b[1G130.8 MiB [=                   ] 6% 4.6s\u001b[0K\u001b[1G130.8 MiB [=                   ] 7% 4.4s\u001b[0K\u001b[1G130.8 MiB [==                  ] 7% 4.2s\u001b[0K\u001b[1G130.8 MiB [==                  ] 8% 4.0s\u001b[0K\u001b[1G130.8 MiB [==                  ] 8% 3.9s\u001b[0K\u001b[1G130.8 MiB [==                  ] 9% 3.7s\u001b[0K\u001b[1G130.8 MiB [==                  ] 10% 3.6s\u001b[0K\u001b[1G130.8 MiB [==                  ] 10% 3.5s\u001b[0K\u001b[1G130.8 MiB [==                  ] 11% 3.4s\u001b[0K\u001b[1G130.8 MiB [==                  ] 12% 3.3s\u001b[0K\u001b[1G130.8 MiB [===                 ] 12% 3.2s\u001b[0K\u001b[1G130.8 MiB [===                 ] 13% 3.1s\u001b[0K\u001b[1G130.8 MiB [===                 ] 14% 3.0s\u001b[0K\u001b[1G130.8 MiB [===                 ] 15% 3.0s\u001b[0K\u001b[1G130.8 MiB [===                 ] 15% 2.9s\u001b[0K\u001b[1G130.8 MiB [===                 ] 16% 2.8s\u001b[0K\u001b[1G130.8 MiB [===                 ] 17% 2.8s\u001b[0K\u001b[1G130.8 MiB [====                ] 17% 2.7s\u001b[0K\u001b[1G130.8 MiB [====                ] 18% 2.7s\u001b[0K\u001b[1G130.8 MiB [====                ] 19% 2.6s\u001b[0K\u001b[1G130.8 MiB [====                ] 20% 2.5s\u001b[0K\u001b[1G130.8 MiB [====                ] 21% 2.5s\u001b[0K\u001b[1G130.8 MiB [====                ] 22% 2.4s\u001b[0K\u001b[1G130.8 MiB [=====               ] 22% 2.4s\u001b[0K\u001b[1G130.8 MiB [=====               ] 23% 2.3s\u001b[0K\u001b[1G130.8 MiB [=====               ] 24% 2.3s\u001b[0K\u001b[1G130.8 MiB [=====               ] 25% 2.2s\u001b[0K\u001b[1G130.8 MiB [=====               ] 26% 2.2s\u001b[0K\u001b[1G130.8 MiB [======              ] 27% 2.1s\u001b[0K\u001b[1G130.8 MiB [======              ] 28% 2.1s\u001b[0K\u001b[1G130.8 MiB [======              ] 29% 2.0s\u001b[0K\u001b[1G130.8 MiB [======              ] 30% 2.0s\u001b[0K\u001b[1G130.8 MiB [======              ] 31% 2.0s\u001b[0K\u001b[1G130.8 MiB [=======             ] 32% 1.9s\u001b[0K\u001b[1G130.8 MiB [=======             ] 33% 1.9s\u001b[0K\u001b[1G130.8 MiB [=======             ] 34% 1.8s\u001b[0K\u001b[1G130.8 MiB [=======             ] 35% 1.8s\u001b[0K\u001b[1G130.8 MiB [=======             ] 36% 1.8s\u001b[0K\u001b[1G130.8 MiB [=======             ] 37% 1.8s\u001b[0K\u001b[1G130.8 MiB [========            ] 37% 1.7s\u001b[0K\u001b[1G130.8 MiB [========            ] 38% 1.7s\u001b[0K\u001b[1G130.8 MiB [========            ] 39% 1.7s\u001b[0K\u001b[1G130.8 MiB [========            ] 40% 1.6s\u001b[0K\u001b[1G130.8 MiB [========            ] 41% 1.6s\u001b[0K\u001b[1G130.8 MiB [========            ] 42% 1.6s\u001b[0K\u001b[1G130.8 MiB [=========           ] 43% 1.5s\u001b[0K\u001b[1G130.8 MiB [=========           ] 44% 1.5s\u001b[0K\u001b[1G130.8 MiB [=========           ] 45% 1.5s\u001b[0K\u001b[1G130.8 MiB [=========           ] 46% 1.4s\u001b[0K\u001b[1G130.8 MiB [=========           ] 47% 1.4s\u001b[0K\u001b[1G130.8 MiB [==========          ] 48% 1.4s\u001b[0K\u001b[1G130.8 MiB [==========          ] 49% 1.3s\u001b[0K\u001b[1G130.8 MiB [==========          ] 50% 1.3s\u001b[0K\u001b[1G130.8 MiB [==========          ] 51% 1.3s\u001b[0K\u001b[1G130.8 MiB [==========          ] 52% 1.3s\u001b[0K\u001b[1G130.8 MiB [===========         ] 53% 1.2s\u001b[0K\u001b[1G130.8 MiB [===========         ] 54% 1.2s\u001b[0K\u001b[1G130.8 MiB [===========         ] 55% 1.2s\u001b[0K\u001b[1G130.8 MiB [===========         ] 56% 1.1s\u001b[0K\u001b[1G130.8 MiB [===========         ] 57% 1.1s\u001b[0K\u001b[1G130.8 MiB [============        ] 57% 1.1s\u001b[0K\u001b[1G130.8 MiB [============        ] 58% 1.1s\u001b[0K\u001b[1G130.8 MiB [============        ] 59% 1.1s\u001b[0K\u001b[1G130.8 MiB [============        ] 60% 1.0s\u001b[0K\u001b[1G130.8 MiB [============        ] 61% 1.0s\u001b[0K\u001b[1G130.8 MiB [============        ] 62% 1.0s\u001b[0K\u001b[1G130.8 MiB [=============       ] 62% 1.0s\u001b[0K\u001b[1G130.8 MiB [=============       ] 63% 0.9s\u001b[0K\u001b[1G130.8 MiB [=============       ] 64% 0.9s\u001b[0K\u001b[1G130.8 MiB [=============       ] 65% 0.9s\u001b[0K\u001b[1G130.8 MiB [=============       ] 66% 0.9s\u001b[0K\u001b[1G130.8 MiB [=============       ] 67% 0.8s\u001b[0K\u001b[1G130.8 MiB [==============      ] 67% 0.8s\u001b[0K\u001b[1G130.8 MiB [==============      ] 68% 0.8s\u001b[0K\u001b[1G130.8 MiB [==============      ] 69% 0.8s\u001b[0K\u001b[1G130.8 MiB [==============      ] 70% 0.8s\u001b[0K\u001b[1G130.8 MiB [==============      ] 71% 0.8s\u001b[0K\u001b[1G130.8 MiB [==============      ] 72% 0.7s\u001b[0K\u001b[1G130.8 MiB [===============     ] 72% 0.7s\u001b[0K\u001b[1G130.8 MiB [===============     ] 73% 0.7s\u001b[0K\u001b[1G130.8 MiB [===============     ] 74% 0.7s\u001b[0K\u001b[1G130.8 MiB [===============     ] 75% 0.7s\u001b[0K\u001b[1G130.8 MiB [===============     ] 76% 0.6s\u001b[0K\u001b[1G130.8 MiB [===============     ] 76% 0.7s\u001b[0K\u001b[1G130.8 MiB [================    ] 78% 0.6s\u001b[0K\u001b[1G130.8 MiB [================    ] 79% 0.6s\u001b[0K\u001b[1G130.8 MiB [================    ] 80% 0.5s\u001b[0K\u001b[1G130.8 MiB [================    ] 81% 0.5s\u001b[0K\u001b[1G130.8 MiB [================    ] 82% 0.5s\u001b[0K\u001b[1G130.8 MiB [=================   ] 82% 0.5s\u001b[0K\u001b[1G130.8 MiB [=================   ] 83% 0.4s\u001b[0K\u001b[1G130.8 MiB [=================   ] 84% 0.4s\u001b[0K\u001b[1G130.8 MiB [=================   ] 85% 0.4s\u001b[0K\u001b[1G130.8 MiB [=================   ] 86% 0.4s\u001b[0K\u001b[1G130.8 MiB [=================   ] 87% 0.3s\u001b[0K\u001b[1G130.8 MiB [==================  ] 87% 0.3s\u001b[0K\u001b[1G130.8 MiB [==================  ] 88% 0.3s\u001b[0K\u001b[1G130.8 MiB [==================  ] 89% 0.3s\u001b[0K\u001b[1G130.8 MiB [==================  ] 90% 0.3s\u001b[0K\u001b[1G130.8 MiB [==================  ] 90% 0.2s\u001b[0K\u001b[1G130.8 MiB [==================  ] 91% 0.2s\u001b[0K\u001b[1G130.8 MiB [==================  ] 92% 0.2s\u001b[0K\u001b[1G130.8 MiB [=================== ] 92% 0.2s\u001b[0K\u001b[1G130.8 MiB [=================== ] 93% 0.2s\u001b[0K\u001b[1G130.8 MiB [=================== ] 94% 0.2s\u001b[0K\u001b[1G130.8 MiB [=================== ] 95% 0.1s\u001b[0K\u001b[1G130.8 MiB [=================== ] 96% 0.1s\u001b[0K\u001b[1G130.8 MiB [=================== ] 97% 0.1s\u001b[0K\u001b[1G130.8 MiB [====================] 97% 0.1s\u001b[0K\u001b[1G130.8 MiB [====================] 98% 0.0s\u001b[0K\u001b[1G130.8 MiB [====================] 99% 0.0s\u001b[0K\u001b[1G130.8 MiB [====================] 100% 0.0s\u001b[0K\n",
            "Chromium 121.0.6167.57 (playwright build v1097) downloaded to /Users/aboniasojasingarayar/Library/Caches/ms-playwright/chromium-1097\n",
            "Downloading FFMPEG playwright build v1009\u001b[2m from https://playwright.azureedge.net/builds/ffmpeg/1009/ffmpeg-mac-arm64.zip\u001b[22m\n",
            "\u001b[1G1 MiB [                    ] 1% 0.0s\u001b[0K\u001b[1G1 MiB [===                 ] 14% 0.1s\u001b[0K\u001b[1G1 MiB [===========         ] 55% 0.0s\u001b[0K\u001b[1G1 MiB [====================] 100% 0.0s\u001b[0K\n",
            "FFMPEG playwright build v1009 downloaded to /Users/aboniasojasingarayar/Library/Caches/ms-playwright/ffmpeg-1009\n",
            "Downloading Firefox 121.0 (playwright build v1438)\u001b[2m from https://playwright.azureedge.net/builds/firefox/1438/firefox-mac-13-arm64.zip\u001b[22m\n",
            "\u001b[1G74.4 MiB [                    ] 0% 0.0s\u001b[0K\u001b[1G74.4 MiB [                    ] 0% 10.6s\u001b[0K\u001b[1G74.4 MiB [                    ] 0% 4.7s\u001b[0K\u001b[1G74.4 MiB [                    ] 1% 4.0s\u001b[0K\u001b[1G74.4 MiB [                    ] 2% 3.4s\u001b[0K\u001b[1G74.4 MiB [=                   ] 2% 3.0s\u001b[0K\u001b[1G74.4 MiB [=                   ] 3% 2.7s\u001b[0K\u001b[1G74.4 MiB [=                   ] 4% 2.6s\u001b[0K\u001b[1G74.4 MiB [=                   ] 5% 2.3s\u001b[0K\u001b[1G74.4 MiB [=                   ] 6% 2.3s\u001b[0K\u001b[1G74.4 MiB [==                  ] 7% 2.1s\u001b[0K\u001b[1G74.4 MiB [==                  ] 8% 2.0s\u001b[0K\u001b[1G74.4 MiB [==                  ] 9% 1.9s\u001b[0K\u001b[1G74.4 MiB [==                  ] 11% 1.8s\u001b[0K\u001b[1G74.4 MiB [==                  ] 11% 1.9s\u001b[0K\u001b[1G74.4 MiB [==                  ] 12% 2.0s\u001b[0K\u001b[1G74.4 MiB [==                  ] 12% 2.2s\u001b[0K\u001b[1G74.4 MiB [===                 ] 13% 2.1s\u001b[0K\u001b[1G74.4 MiB [===                 ] 14% 2.1s\u001b[0K\u001b[1G74.4 MiB [===                 ] 15% 2.0s\u001b[0K\u001b[1G74.4 MiB [===                 ] 16% 1.9s\u001b[0K\u001b[1G74.4 MiB [===                 ] 17% 1.8s\u001b[0K\u001b[1G74.4 MiB [====                ] 18% 1.8s\u001b[0K\u001b[1G74.4 MiB [====                ] 19% 1.7s\u001b[0K\u001b[1G74.4 MiB [====                ] 21% 1.6s\u001b[0K\u001b[1G74.4 MiB [====                ] 22% 1.6s\u001b[0K\u001b[1G74.4 MiB [=====               ] 23% 1.6s\u001b[0K\u001b[1G74.4 MiB [=====               ] 24% 1.6s\u001b[0K\u001b[1G74.4 MiB [=====               ] 25% 1.5s\u001b[0K\u001b[1G74.4 MiB [=====               ] 26% 1.5s\u001b[0K\u001b[1G74.4 MiB [======              ] 27% 1.4s\u001b[0K\u001b[1G74.4 MiB [======              ] 28% 1.4s\u001b[0K\u001b[1G74.4 MiB [======              ] 30% 1.3s\u001b[0K\u001b[1G74.4 MiB [======              ] 31% 1.3s\u001b[0K\u001b[1G74.4 MiB [=======             ] 32% 1.3s\u001b[0K\u001b[1G74.4 MiB [=======             ] 33% 1.3s\u001b[0K\u001b[1G74.4 MiB [=======             ] 33% 1.4s\u001b[0K\u001b[1G74.4 MiB [=======             ] 34% 1.4s\u001b[0K\u001b[1G74.4 MiB [=======             ] 35% 1.4s\u001b[0K\u001b[1G74.4 MiB [=======             ] 36% 1.3s\u001b[0K\u001b[1G74.4 MiB [=======             ] 37% 1.3s\u001b[0K\u001b[1G74.4 MiB [========            ] 39% 1.2s\u001b[0K\u001b[1G74.4 MiB [========            ] 41% 1.2s\u001b[0K\u001b[1G74.4 MiB [========            ] 42% 1.2s\u001b[0K\u001b[1G74.4 MiB [=========           ] 43% 1.1s\u001b[0K\u001b[1G74.4 MiB [=========           ] 43% 1.2s\u001b[0K\u001b[1G74.4 MiB [=========           ] 44% 1.2s\u001b[0K\u001b[1G74.4 MiB [=========           ] 45% 1.2s\u001b[0K\u001b[1G74.4 MiB [=========           ] 45% 1.1s\u001b[0K\u001b[1G74.4 MiB [=========           ] 46% 1.2s\u001b[0K\u001b[1G74.4 MiB [==========          ] 47% 1.1s\u001b[0K\u001b[1G74.4 MiB [==========          ] 49% 1.1s\u001b[0K\u001b[1G74.4 MiB [==========          ] 50% 1.1s\u001b[0K\u001b[1G74.4 MiB [==========          ] 51% 1.1s\u001b[0K\u001b[1G74.4 MiB [===========         ] 52% 1.0s\u001b[0K\u001b[1G74.4 MiB [===========         ] 53% 1.0s\u001b[0K\u001b[1G74.4 MiB [===========         ] 54% 1.0s\u001b[0K\u001b[1G74.4 MiB [===========         ] 55% 1.0s\u001b[0K\u001b[1G74.4 MiB [===========         ] 56% 1.0s\u001b[0K\u001b[1G74.4 MiB [============        ] 57% 1.0s\u001b[0K\u001b[1G74.4 MiB [============        ] 58% 0.9s\u001b[0K\u001b[1G74.4 MiB [============        ] 59% 0.9s\u001b[0K\u001b[1G74.4 MiB [============        ] 61% 0.9s\u001b[0K\u001b[1G74.4 MiB [============        ] 62% 0.8s\u001b[0K\u001b[1G74.4 MiB [=============       ] 63% 0.8s\u001b[0K\u001b[1G74.4 MiB [=============       ] 64% 0.8s\u001b[0K\u001b[1G74.4 MiB [=============       ] 65% 0.7s\u001b[0K\u001b[1G74.4 MiB [=============       ] 66% 0.7s\u001b[0K\u001b[1G74.4 MiB [=============       ] 67% 0.7s\u001b[0K\u001b[1G74.4 MiB [==============      ] 68% 0.7s\u001b[0K\u001b[1G74.4 MiB [==============      ] 69% 0.6s\u001b[0K\u001b[1G74.4 MiB [==============      ] 70% 0.6s\u001b[0K\u001b[1G74.4 MiB [==============      ] 72% 0.6s\u001b[0K\u001b[1G74.4 MiB [===============     ] 73% 0.6s\u001b[0K\u001b[1G74.4 MiB [===============     ] 74% 0.5s\u001b[0K\u001b[1G74.4 MiB [===============     ] 75% 0.5s\u001b[0K\u001b[1G74.4 MiB [===============     ] 76% 0.5s\u001b[0K\u001b[1G74.4 MiB [================    ] 77% 0.5s\u001b[0K\u001b[1G74.4 MiB [================    ] 78% 0.4s\u001b[0K\u001b[1G74.4 MiB [================    ] 79% 0.4s\u001b[0K\u001b[1G74.4 MiB [================    ] 81% 0.4s\u001b[0K\u001b[1G74.4 MiB [=================   ] 82% 0.3s\u001b[0K\u001b[1G74.4 MiB [=================   ] 83% 0.3s\u001b[0K\u001b[1G74.4 MiB [=================   ] 85% 0.3s\u001b[0K\u001b[1G74.4 MiB [=================   ] 86% 0.3s\u001b[0K\u001b[1G74.4 MiB [=================   ] 87% 0.3s\u001b[0K\u001b[1G74.4 MiB [==================  ] 87% 0.3s\u001b[0K\u001b[1G74.4 MiB [==================  ] 87% 0.2s\u001b[0K\u001b[1G74.4 MiB [==================  ] 88% 0.2s\u001b[0K\u001b[1G74.4 MiB [==================  ] 90% 0.2s\u001b[0K\u001b[1G74.4 MiB [==================  ] 91% 0.2s\u001b[0K\u001b[1G74.4 MiB [=================== ] 92% 0.1s\u001b[0K\u001b[1G74.4 MiB [=================== ] 93% 0.1s\u001b[0K\u001b[1G74.4 MiB [=================== ] 95% 0.1s\u001b[0K\u001b[1G74.4 MiB [=================== ] 96% 0.1s\u001b[0K\u001b[1G74.4 MiB [====================] 97% 0.0s\u001b[0K\u001b[1G74.4 MiB [====================] 98% 0.0s\u001b[0K\u001b[1G74.4 MiB [====================] 99% 0.0s\u001b[0K\u001b[1G74.4 MiB [====================] 100% 0.0s\u001b[0K\n",
            "Firefox 121.0 (playwright build v1438) downloaded to /Users/aboniasojasingarayar/Library/Caches/ms-playwright/firefox-1438\n",
            "Downloading Webkit 17.4 (playwright build v1967)\u001b[2m from https://playwright.azureedge.net/builds/webkit/1967/webkit-mac-13-arm64.zip\u001b[22m\n",
            "\u001b[1G63.6 MiB [                    ] 0% 0.0s\u001b[0K\u001b[1G63.6 MiB [                    ] 0% 67.1s\u001b[0K\u001b[1G63.6 MiB [                    ] 0% 160.4s\u001b[0K\u001b[1G63.6 MiB [                    ] 0% 109.1s\u001b[0K\u001b[1G63.6 MiB [                    ] 0% 170.7s\u001b[0K\u001b[1G63.6 MiB [                    ] 0% 166.2s\u001b[0K\u001b[1G63.6 MiB [                    ] 0% 164.9s\u001b[0K\u001b[1G63.6 MiB [                    ] 0% 159.0s\u001b[0K\u001b[1G63.6 MiB [                    ] 0% 132.8s\u001b[0K\u001b[1G63.6 MiB [                    ] 0% 125.3s\u001b[0K\u001b[1G63.6 MiB [                    ] 0% 89.6s\u001b[0K\u001b[1G63.6 MiB [                    ] 1% 58.3s\u001b[0K\u001b[1G63.6 MiB [                    ] 1% 46.6s\u001b[0K\u001b[1G63.6 MiB [                    ] 1% 38.6s\u001b[0K\u001b[1G63.6 MiB [                    ] 2% 32.3s\u001b[0K\u001b[1G63.6 MiB [=                   ] 2% 27.8s\u001b[0K\u001b[1G63.6 MiB [=                   ] 3% 20.8s\u001b[0K\u001b[1G63.6 MiB [=                   ] 4% 16.9s\u001b[0K\u001b[1G63.6 MiB [=                   ] 5% 14.2s\u001b[0K\u001b[1G63.6 MiB [=                   ] 6% 12.0s\u001b[0K\u001b[1G63.6 MiB [=                   ] 6% 11.9s\u001b[0K\u001b[1G63.6 MiB [=                   ] 6% 12.3s\u001b[0K\u001b[1G63.6 MiB [=                   ] 6% 12.5s\u001b[0K\u001b[1G63.6 MiB [=                   ] 7% 12.4s\u001b[0K\u001b[1G63.6 MiB [==                  ] 8% 10.8s\u001b[0K\u001b[1G63.6 MiB [==                  ] 8% 10.1s\u001b[0K\u001b[1G63.6 MiB [==                  ] 9% 9.3s\u001b[0K\u001b[1G63.6 MiB [==                  ] 10% 8.3s\u001b[0K\u001b[1G63.6 MiB [==                  ] 11% 7.6s\u001b[0K\u001b[1G63.6 MiB [===                 ] 12% 6.9s\u001b[0K\u001b[1G63.6 MiB [===                 ] 13% 6.7s\u001b[0K\u001b[1G63.6 MiB [===                 ] 13% 6.6s\u001b[0K\u001b[1G63.6 MiB [===                 ] 14% 6.4s\u001b[0K\u001b[1G63.6 MiB [===                 ] 15% 6.1s\u001b[0K\u001b[1G63.6 MiB [===                 ] 16% 5.6s\u001b[0K\u001b[1G63.6 MiB [====                ] 17% 5.2s\u001b[0K\u001b[1G63.6 MiB [====                ] 19% 4.9s\u001b[0K\u001b[1G63.6 MiB [====                ] 20% 4.5s\u001b[0K\u001b[1G63.6 MiB [====                ] 21% 4.3s\u001b[0K\u001b[1G63.6 MiB [=====               ] 22% 4.0s\u001b[0K\u001b[1G63.6 MiB [=====               ] 24% 3.7s\u001b[0K\u001b[1G63.6 MiB [=====               ] 25% 3.5s\u001b[0K\u001b[1G63.6 MiB [=====               ] 26% 3.5s\u001b[0K\u001b[1G63.6 MiB [======              ] 27% 3.4s\u001b[0K\u001b[1G63.6 MiB [======              ] 28% 3.4s\u001b[0K\u001b[1G63.6 MiB [======              ] 29% 3.2s\u001b[0K\u001b[1G63.6 MiB [======              ] 30% 3.2s\u001b[0K\u001b[1G63.6 MiB [======              ] 31% 3.0s\u001b[0K\u001b[1G63.6 MiB [=======             ] 33% 2.8s\u001b[0K\u001b[1G63.6 MiB [=======             ] 34% 2.7s\u001b[0K\u001b[1G63.6 MiB [=======             ] 35% 2.6s\u001b[0K\u001b[1G63.6 MiB [========            ] 37% 2.4s\u001b[0K\u001b[1G63.6 MiB [========            ] 38% 2.4s\u001b[0K\u001b[1G63.6 MiB [========            ] 39% 2.4s\u001b[0K\u001b[1G63.6 MiB [========            ] 39% 2.3s\u001b[0K\u001b[1G63.6 MiB [========            ] 40% 2.3s\u001b[0K\u001b[1G63.6 MiB [========            ] 41% 2.2s\u001b[0K\u001b[1G63.6 MiB [=========           ] 42% 2.1s\u001b[0K\u001b[1G63.6 MiB [=========           ] 43% 2.0s\u001b[0K\u001b[1G63.6 MiB [=========           ] 44% 2.0s\u001b[0K\u001b[1G63.6 MiB [=========           ] 46% 1.8s\u001b[0K\u001b[1G63.6 MiB [==========          ] 48% 1.8s\u001b[0K\u001b[1G63.6 MiB [==========          ] 49% 1.7s\u001b[0K\u001b[1G63.6 MiB [==========          ] 50% 1.6s\u001b[0K\u001b[1G63.6 MiB [==========          ] 51% 1.6s\u001b[0K\u001b[1G63.6 MiB [==========          ] 52% 1.6s\u001b[0K\u001b[1G63.6 MiB [===========         ] 53% 1.6s\u001b[0K\u001b[1G63.6 MiB [===========         ] 54% 1.5s\u001b[0K\u001b[1G63.6 MiB [===========         ] 56% 1.4s\u001b[0K\u001b[1G63.6 MiB [============        ] 57% 1.4s\u001b[0K\u001b[1G63.6 MiB [============        ] 59% 1.3s\u001b[0K\u001b[1G63.6 MiB [============        ] 60% 1.2s\u001b[0K\u001b[1G63.6 MiB [============        ] 62% 1.2s\u001b[0K\u001b[1G63.6 MiB [=============       ] 63% 1.1s\u001b[0K\u001b[1G63.6 MiB [=============       ] 64% 1.1s\u001b[0K\u001b[1G63.6 MiB [=============       ] 66% 1.0s\u001b[0K\u001b[1G63.6 MiB [=============       ] 67% 1.0s\u001b[0K\u001b[1G63.6 MiB [==============      ] 68% 0.9s\u001b[0K\u001b[1G63.6 MiB [==============      ] 69% 0.9s\u001b[0K\u001b[1G63.6 MiB [==============      ] 70% 0.9s\u001b[0K\u001b[1G63.6 MiB [==============      ] 72% 0.8s\u001b[0K\u001b[1G63.6 MiB [===============     ] 73% 0.8s\u001b[0K\u001b[1G63.6 MiB [===============     ] 74% 0.8s\u001b[0K\u001b[1G63.6 MiB [===============     ] 75% 0.8s\u001b[0K\u001b[1G63.6 MiB [===============     ] 76% 0.7s\u001b[0K\u001b[1G63.6 MiB [================    ] 77% 0.7s\u001b[0K\u001b[1G63.6 MiB [================    ] 79% 0.6s\u001b[0K\u001b[1G63.6 MiB [================    ] 80% 0.6s\u001b[0K\u001b[1G63.6 MiB [================    ] 81% 0.5s\u001b[0K\u001b[1G63.6 MiB [=================   ] 83% 0.5s\u001b[0K\u001b[1G63.6 MiB [=================   ] 84% 0.4s\u001b[0K\u001b[1G63.6 MiB [=================   ] 85% 0.4s\u001b[0K\u001b[1G63.6 MiB [=================   ] 86% 0.4s\u001b[0K\u001b[1G63.6 MiB [==================  ] 88% 0.3s\u001b[0K\u001b[1G63.6 MiB [==================  ] 89% 0.3s\u001b[0K\u001b[1G63.6 MiB [==================  ] 90% 0.3s\u001b[0K\u001b[1G63.6 MiB [==================  ] 91% 0.3s\u001b[0K\u001b[1G63.6 MiB [=================== ] 92% 0.2s\u001b[0K\u001b[1G63.6 MiB [=================== ] 93% 0.2s\u001b[0K\u001b[1G63.6 MiB [=================== ] 95% 0.1s\u001b[0K\u001b[1G63.6 MiB [=================== ] 96% 0.1s\u001b[0K\u001b[1G63.6 MiB [====================] 98% 0.0s\u001b[0K\u001b[1G63.6 MiB [====================] 99% 0.0s\u001b[0K\u001b[1G63.6 MiB [====================] 100% 0.0s\u001b[0K\n",
            "Webkit 17.4 (playwright build v1967) downloaded to /Users/aboniasojasingarayar/Library/Caches/ms-playwright/webkit-1967\n"
          ]
        }
      ],
      "source": [
        "!playwright install"
      ]
    },
    {
      "cell_type": "code",
      "execution_count": 5,
      "metadata": {
        "id": "5Z7FL9hFniSv"
      },
      "outputs": [],
      "source": [
        "import nest_asyncio\n",
        "nest_asyncio.apply()\n",
        "from langchain_community.document_loaders import AsyncChromiumLoader\n",
        "\n",
        "\n",
        "# Articles to index\n",
        "articles = [\"https://medium.com/@abonia/bertscore-explained-in-5-minutes-0b98553bfb71\",\n",
        "            \"https://medium.com/@abonia/document-based-llm-powered-chatbot-bb316009de93/\",]\n",
        "\n",
        "# Scrapes the blogs above\n",
        "loader = AsyncChromiumLoader(articles)\n",
        "docs = loader.load()\n"
      ]
    },
    {
      "cell_type": "code",
      "execution_count": 11,
      "metadata": {
        "colab": {
          "base_uri": "https://localhost:8080/"
        },
        "id": "hLt_e_nOpog7",
        "outputId": "01d2e192-ce96-4a24-de6f-13f1b10d4c12"
      },
      "outputs": [
        {
          "name": "stderr",
          "output_type": "stream",
          "text": [
            "Created a chunk of size 442, which is longer than the specified 100\n",
            "Created a chunk of size 375, which is longer than the specified 100\n",
            "Created a chunk of size 490, which is longer than the specified 100\n",
            "Created a chunk of size 102, which is longer than the specified 100\n",
            "Created a chunk of size 281, which is longer than the specified 100\n",
            "Created a chunk of size 233, which is longer than the specified 100\n",
            "Created a chunk of size 989, which is longer than the specified 100\n",
            "Created a chunk of size 104, which is longer than the specified 100\n",
            "Created a chunk of size 280, which is longer than the specified 100\n",
            "Created a chunk of size 489, which is longer than the specified 100\n",
            "Created a chunk of size 221, which is longer than the specified 100\n",
            "Created a chunk of size 155, which is longer than the specified 100\n",
            "Created a chunk of size 287, which is longer than the specified 100\n",
            "Created a chunk of size 214, which is longer than the specified 100\n",
            "Created a chunk of size 243, which is longer than the specified 100\n",
            "Created a chunk of size 175, which is longer than the specified 100\n",
            "Created a chunk of size 202, which is longer than the specified 100\n",
            "Created a chunk of size 554, which is longer than the specified 100\n",
            "Created a chunk of size 247, which is longer than the specified 100\n",
            "Created a chunk of size 357, which is longer than the specified 100\n",
            "Created a chunk of size 166, which is longer than the specified 100\n",
            "Created a chunk of size 134, which is longer than the specified 100\n",
            "Created a chunk of size 316, which is longer than the specified 100\n",
            "Created a chunk of size 322, which is longer than the specified 100\n",
            "Created a chunk of size 119, which is longer than the specified 100\n",
            "Created a chunk of size 286, which is longer than the specified 100\n",
            "Created a chunk of size 552, which is longer than the specified 100\n",
            "Created a chunk of size 230, which is longer than the specified 100\n",
            "Created a chunk of size 270, which is longer than the specified 100\n",
            "Created a chunk of size 241, which is longer than the specified 100\n",
            "Created a chunk of size 339, which is longer than the specified 100\n",
            "Created a chunk of size 300, which is longer than the specified 100\n",
            "Created a chunk of size 176, which is longer than the specified 100\n",
            "Created a chunk of size 168, which is longer than the specified 100\n",
            "Created a chunk of size 162, which is longer than the specified 100\n",
            "Created a chunk of size 192, which is longer than the specified 100\n",
            "Created a chunk of size 269, which is longer than the specified 100\n",
            "Created a chunk of size 213, which is longer than the specified 100\n",
            "Created a chunk of size 154, which is longer than the specified 100\n",
            "Created a chunk of size 450, which is longer than the specified 100\n",
            "Created a chunk of size 205, which is longer than the specified 100\n",
            "Created a chunk of size 703, which is longer than the specified 100\n",
            "Created a chunk of size 369, which is longer than the specified 100\n",
            "Created a chunk of size 424, which is longer than the specified 100\n",
            "Created a chunk of size 2057, which is longer than the specified 100\n",
            "Created a chunk of size 232, which is longer than the specified 100\n",
            "Created a chunk of size 1332, which is longer than the specified 100\n",
            "Created a chunk of size 325, which is longer than the specified 100\n",
            "Created a chunk of size 1529, which is longer than the specified 100\n",
            "Created a chunk of size 1534, which is longer than the specified 100\n",
            "Created a chunk of size 384, which is longer than the specified 100\n",
            "Created a chunk of size 158, which is longer than the specified 100\n",
            "Created a chunk of size 134, which is longer than the specified 100\n",
            "Created a chunk of size 142, which is longer than the specified 100\n",
            "Created a chunk of size 140, which is longer than the specified 100\n"
          ]
        }
      ],
      "source": [
        "from langchain_community.document_transformers import Html2TextTransformer\n",
        "from langchain.text_splitter import CharacterTextSplitter\n",
        "from langchain_community.embeddings import HuggingFaceEmbeddings\n",
        "from langchain_community.vectorstores import FAISS\n",
        "# Converts HTML to plain text\n",
        "html2text = Html2TextTransformer()\n",
        "docs_transformed = html2text.transform_documents(docs)\n",
        "\n",
        "# Chunk text\n",
        "text_splitter = CharacterTextSplitter(chunk_size=100,\n",
        "                                      chunk_overlap=0)\n",
        "chunked_documents = text_splitter.split_documents(docs_transformed)\n",
        "\n",
        "# Load chunked documents into the FAISS index\n",
        "db = FAISS.from_documents(chunked_documents,\n",
        "                          HuggingFaceEmbeddings(model_name='sentence-transformers/all-mpnet-base-v2'))\n",
        "\n",
        "retriever = db.as_retriever()\n"
      ]
    },
    {
      "cell_type": "code",
      "execution_count": 22,
      "metadata": {
        "id": "ny1ja1ujrmbB"
      },
      "outputs": [
        {
          "data": {
            "text/plain": [
              "{'query': 'What is cosine similarity?',\n",
              " 'result': ' Cosine similarity is a measure of similarity between two non-zero vectors of an inner product space. It is computed as the cosine of the angle between them, which indicates how similar they are in direction. The result ranges from -1 to 1, with 1 indicating perfect similarity and 0 indicating orthogonal (perpendicular) vectors.',\n",
              " 'source_documents': [Document(page_content='The formula for cosine similarity is:\\n\\n> similarity(A, B) = (A . B) / (||A|| ||B||)', metadata={'source': 'https://medium.com/@abonia/document-based-llm-powered-chatbot-bb316009de93/'}),\n",
              "  Document(page_content='Cosine similarity — This method measures the cosine of the angle between two\\nvectors, which indicates how similar they are in direction. Cosine similarity\\nranges from -1 to 1, with 1 indicating perfect similarity.', metadata={'source': 'https://medium.com/@abonia/document-based-llm-powered-chatbot-bb316009de93/'}),\n",
              "  Document(page_content='Cosine Similarity and Cosine Distance — credit', metadata={'source': 'https://medium.com/@abonia/document-based-llm-powered-chatbot-bb316009de93/'}),\n",
              "  Document(page_content='Where A and B are the two vectors being compared, . is the dot product of the\\nvectors, and || || represents the Euclidean norm (magnitude) of the vectors.', metadata={'source': 'https://medium.com/@abonia/document-based-llm-powered-chatbot-bb316009de93/'})]}"
            ]
          },
          "execution_count": 22,
          "metadata": {},
          "output_type": "execute_result"
        }
      ],
      "source": [
        "from langchain import PromptTemplate\n",
        "from langchain_community.llms import Ollama\n",
        "from langchain.chains import RetrievalQA\n",
        "\n",
        "prompt_template = \"\"\"\n",
        "### [INST] Instruction: Answer the question based on the medium article knowledge. Here is context to help:\n",
        "\n",
        "{context}\n",
        "\n",
        "### QUESTION:\n",
        "{question} [/INST]\n",
        " \"\"\"\n",
        "\n",
        "# Create prompt from prompt template\n",
        "prompt = PromptTemplate(\n",
        "    input_variables=[\"context\", \"question\"],\n",
        "    template=prompt_template,\n",
        ")\n",
        "\n",
        "# Create llm chain\n",
        "#llm_chain = LLMChain(llm=mistral_llm, prompt=prompt)\n",
        "llm = Ollama(model=\"mistral\")\n",
        "\n",
        "qa = RetrievalQA.from_chain_type(llm=llm, chain_type=\"stuff\", retriever=retriever, return_source_documents=True, chain_type_kwargs={\"prompt\": prompt_template},)\n",
        "\n",
        "answer = qa.invoke(\"What is cosine similarity?\")\n"
      ]
    },
    {
      "cell_type": "code",
      "execution_count": 29,
      "metadata": {
        "id": "Fd6rjUwPtIbJ"
      },
      "outputs": [
        {
          "name": "stdout",
          "output_type": "stream",
          "text": [
            " Cosine similarity is a measure of similarity between two non-zero vectors of an inner product space. It calculates the cosine of the angle between them, which indicates how similar they are in direction. The result ranges from -1 to 1, with 1 indicating perfect similarity and 0 indicating orthogonal (perpendicular) vectors.\n"
          ]
        }
      ],
      "source": [
        "answer = qa.invoke(\"What is cosine similarity?\")\n",
        "print(answer['result'])"
      ]
    },
    {
      "cell_type": "code",
      "execution_count": null,
      "metadata": {},
      "outputs": [],
      "source": []
    }
  ],
  "metadata": {
    "colab": {
      "provenance": []
    },
    "kernelspec": {
      "display_name": "Python 3",
      "name": "python3"
    },
    "language_info": {
      "codemirror_mode": {
        "name": "ipython",
        "version": 3
      },
      "file_extension": ".py",
      "mimetype": "text/x-python",
      "name": "python",
      "nbconvert_exporter": "python",
      "pygments_lexer": "ipython3",
      "version": "3.11.8"
    }
  },
  "nbformat": 4,
  "nbformat_minor": 0
}
