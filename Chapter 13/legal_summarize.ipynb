{
 "cells": [
  {
   "cell_type": "markdown",
   "metadata": {},
   "source": [
    "To perform document summarization using LLMs with the LangChain library, you have three main options: Stuff, Map-Reduce, and Refine. Here's a hands-on guide for each method:\n",
    "\n",
    "## Option 1: Stuff\n",
    "This method involves stuffing all your documents into a single prompt and passing it to an LLM.\n",
    "\n",
    "Import necessary modules and define the prompt template.\n",
    "Create an LLM chain with the defined prompt.\n",
    "Define a StuffDocumentsChain that takes the LLM chain and combines all documents into a single prompt.\n",
    "Run the summarization."
   ]
  },
  {
   "cell_type": "code",
   "execution_count": 3,
   "metadata": {},
   "outputs": [
    {
     "name": "stdout",
     "output_type": "stream",
     "text": [
      "Collecting pypdf\n",
      "  Downloading pypdf-4.0.2-py3-none-any.whl.metadata (7.4 kB)\n",
      "Downloading pypdf-4.0.2-py3-none-any.whl (283 kB)\n",
      "\u001b[2K   \u001b[90m━━━━━━━━━━━━━━━━━━━━━━━━━━━━━━━━━━━━━━━━\u001b[0m \u001b[32m284.0/284.0 kB\u001b[0m \u001b[31m12.4 MB/s\u001b[0m eta \u001b[36m0:00:00\u001b[0m\n",
      "\u001b[?25hInstalling collected packages: pypdf\n",
      "Successfully installed pypdf-4.0.2\n",
      "Note: you may need to restart the kernel to use updated packages.\n"
     ]
    }
   ],
   "source": [
    "pip install pypdf"
   ]
  },
  {
   "cell_type": "code",
   "execution_count": 2,
   "metadata": {},
   "outputs": [],
   "source": [
    "loader = PyPDFLoader(\"./data/Raptor-Agreement.pdf\")\n"
   ]
  },
  {
   "cell_type": "code",
   "execution_count": 3,
   "metadata": {},
   "outputs": [
    {
     "name": "stderr",
     "output_type": "stream",
     "text": [
      "/Users/aboniasojasingarayar/miniconda3/lib/python3.11/site-packages/langchain_core/_api/deprecation.py:117: LangChainDeprecationWarning: The function `run` was deprecated in LangChain 0.1.0 and will be removed in 0.2.0. Use invoke instead.\n",
      "  warn_deprecated(\n"
     ]
    },
    {
     "name": "stdout",
     "output_type": "stream",
     "text": [
      " This is a Subscription Agreement between Subscriber and Raptor Technologies, LLC (Raptor) for the use of Raptor's Subscription Services. The agreement outlines the terms of the limited, non-exclusive license granted to Subscriber to access and use the services, payment terms, termination clauses, disclaimers, and miscellaneous provisions.\n",
      "\n",
      "Subscriber will pay fees for the use of the Subscription Services, which include registered sex offender information and custom alerts. Raptor does not guarantee or warrant the accuracy, integrity, or quality of the third-party information provided. The agreement also includes sections on termination, disclaimers, miscellaneous provisions, and contact information for written notice.\n",
      "\n",
      "The agreement may only be amended with a written agreement between both parties, and it is binding upon and enforceable by the Parties and their respective successors and permitted assigns. Raptor will not be in default of this Agreement for any performance failure caused by occurrences beyond its reasonable control. The waiver or failure of Raptor to exercise any right provided under this Agreement shall not be deemed a waiver of any further rights. Subscriber may not assign this Agreement without the prior written consent of Raptor.\n",
      "\n",
      "This agreement is effective as of the Effective Date signed by both parties.\n"
     ]
    }
   ],
   "source": [
    "from langchain.chains.combine_documents.stuff import StuffDocumentsChain\n",
    "from langchain.chains.llm import LLMChain\n",
    "from langchain.prompts import PromptTemplate\n",
    "from langchain_community.document_loaders import PyPDFLoader\n",
    "from langchain_openai import ChatOpenAI\n",
    "\n",
    "# Define prompt\n",
    "prompt_template = \"\"\"Write a concise summary of the following:\n",
    "\"{text}\"\n",
    "CONCISE SUMMARY:\"\"\"\n",
    "prompt = PromptTemplate.from_template(prompt_template)\n",
    "\n",
    "# Define LLM chain\n",
    "llm = ChatOpenAI(temperature=0, model_name=\"gpt-3.5-turbo-16k\")\n",
    "\n",
    "llm_chain = LLMChain(llm=llm, prompt=prompt)\n",
    "\n",
    "# Define StuffDocumentsChain\n",
    "stuff_chain = StuffDocumentsChain(llm_chain=llm_chain, document_variable_name=\"text\")\n",
    "\n",
    "\n",
    "docs = loader.load()\n",
    "print(stuff_chain.run(docs))\n"
   ]
  },
  {
   "cell_type": "markdown",
   "metadata": {},
   "source": [
    "## Option 2: Map-Reduce\n",
    "This method involves summarizing each document individually (map) and then combining these summaries into a final summary (reduce).\n",
    "\n",
    "Define the map and reduce prompts.\n",
    "Create an LLM chain for mapping each document to an individual summary.\n",
    "Use a ReduceDocumentsChain to combine the summaries.\n",
    "Optionally, use a MapReduceDocumentsChain to automate the process."
   ]
  },
  {
   "cell_type": "code",
   "execution_count": 7,
   "metadata": {},
   "outputs": [
    {
     "data": {
      "application/vnd.jupyter.widget-view+json": {
       "model_id": "41beb297d74e4206b800b7eca49c9ad4",
       "version_major": 2,
       "version_minor": 0
      },
      "text/plain": [
       "tokenizer_config.json:   0%|          | 0.00/26.0 [00:00<?, ?B/s]"
      ]
     },
     "metadata": {},
     "output_type": "display_data"
    },
    {
     "data": {
      "application/vnd.jupyter.widget-view+json": {
       "model_id": "5b31b1ae83e845a4abb00772374e917e",
       "version_major": 2,
       "version_minor": 0
      },
      "text/plain": [
       "vocab.json:   0%|          | 0.00/1.04M [00:00<?, ?B/s]"
      ]
     },
     "metadata": {},
     "output_type": "display_data"
    },
    {
     "data": {
      "application/vnd.jupyter.widget-view+json": {
       "model_id": "556e6b8b08a344359ddf1ab08a84f6f6",
       "version_major": 2,
       "version_minor": 0
      },
      "text/plain": [
       "merges.txt:   0%|          | 0.00/456k [00:00<?, ?B/s]"
      ]
     },
     "metadata": {},
     "output_type": "display_data"
    },
    {
     "data": {
      "application/vnd.jupyter.widget-view+json": {
       "model_id": "ed6d02ad21f64cd78723fc2f8b8a5247",
       "version_major": 2,
       "version_minor": 0
      },
      "text/plain": [
       "tokenizer.json:   0%|          | 0.00/1.36M [00:00<?, ?B/s]"
      ]
     },
     "metadata": {},
     "output_type": "display_data"
    },
    {
     "data": {
      "application/vnd.jupyter.widget-view+json": {
       "model_id": "0701fd0b0a404de6b46058bc2f883e18",
       "version_major": 2,
       "version_minor": 0
      },
      "text/plain": [
       "config.json:   0%|          | 0.00/665 [00:00<?, ?B/s]"
      ]
     },
     "metadata": {},
     "output_type": "display_data"
    },
    {
     "name": "stdout",
     "output_type": "stream",
     "text": [
      " This document outlines the terms and conditions of an Agreement between Raptor Technologies, LLC (Raptor) and a Subscriber organization for access to Raptor's Subscription Services. The key themes include:\n",
      "\n",
      "1. License and Terms: Raptor grants a limited, non-exclusive license to the Subscriber to use its Subscription Services subject to certain terms and conditions. The Subscriber is responsible for providing their own Internet access and equipment to use the Subscription Services.\n",
      "2. Confidentiality: The Subscriber agrees to keep confidential any information related to the Subscription Services and Equipment provided by Raptor, except as expressly permitted.\n",
      "3. Data Collection and Distribution: The Subscriber is prohibited from disclosing or making public individual's personally identifying information obtained through the Subscription Services except as required in the ordinary course of business or by applicable law.\n",
      "4. Fees and Term: The Agreement has an initial term of one year, during which the Subscriber must pay the Annual Software Access Fee for each Campus that will utilize the Subscription Services. Upon termination, all amounts due to Raptor remain payable and all licenses granted under the Agreement terminate at the end of the pre-paid annual term.\n",
      "5. Termination: The Subscriber may terminate the Agreement with 60 days' written notice prior to the end of the then-current term. Sections 1, 2, 3, 6, and 7 survive termination.\n",
      "6. Disclaimers: Raptor does not guarantee or warrant any information made available within the Subscription Services, including determinations of an individual's registered sex offender status or custom alert status. The Subscriber is responsible for ensuring compliance with applicable laws and regulations related to data collection and distribution.\n",
      "7. Other Provisions: The Agreement includes provisions related to acts beyond Raptor's control, lack of creation of partnership or agency relationship, and non-assignment by the Subscriber without consent. Contact information for written notices and effective date are also included.\n"
     ]
    }
   ],
   "source": [
    "\n",
    "\n",
    "from langchain.chains import MapReduceDocumentsChain, ReduceDocumentsChain\n",
    "from langchain.text_splitter  import CharacterTextSplitter\n",
    "\n",
    "#llm = ChatOpenAI(temperature=0)\n",
    "\n",
    "# Map\n",
    "map_template = \"\"\"The following is a set of documents\n",
    "{docs}\n",
    "Based on this list of docs, please identify the main themes \n",
    "Helpful Answer:\"\"\"\n",
    "map_prompt = PromptTemplate.from_template(map_template)\n",
    "map_chain = LLMChain(llm=llm, prompt=map_prompt)\n",
    "\n",
    "# Reduce\n",
    "reduce_template = \"\"\"The following is set of summaries:\n",
    "{docs}\n",
    "Take these and distill it into a final, consolidated summary of the main themes. \n",
    "Helpful Answer:\"\"\"\n",
    "reduce_prompt = PromptTemplate.from_template(reduce_template)\n",
    "\n",
    "# Run chain\n",
    "reduce_chain = LLMChain(llm=llm, prompt=reduce_prompt)\n",
    "\n",
    "combine_documents_chain = StuffDocumentsChain(\n",
    "    llm_chain=reduce_chain, document_variable_name=\"docs\"\n",
    ")\n",
    "\n",
    "reduce_documents_chain = ReduceDocumentsChain(\n",
    "    combine_documents_chain=combine_documents_chain,\n",
    "    collapse_documents_chain=combine_documents_chain,\n",
    "    token_max=4000,\n",
    ")\n",
    "\n",
    "map_reduce_chain = MapReduceDocumentsChain(\n",
    "    llm_chain=map_chain,\n",
    "    reduce_documents_chain=reduce_documents_chain,\n",
    "    document_variable_name=\"docs\",\n",
    "    return_intermediate_steps=False,\n",
    ")\n",
    "\n",
    "text_splitter = CharacterTextSplitter.from_tiktoken_encoder(\n",
    "    chunk_size=1000, chunk_overlap=0\n",
    ")\n",
    "split_docs = text_splitter.split_documents(docs)\n",
    "\n",
    "print(map_reduce_chain.run(split_docs))"
   ]
  },
  {
   "cell_type": "markdown",
   "metadata": {},
   "source": [
    "## Option 3: Refine\n",
    "This method involves iteratively refining a summary based on new context.\n",
    "\n",
    "Define the prompt template for refining.\n",
    "Load the summarize chain with the refine chain type.\n",
    "Run the summarization with the input documents.\n",
    "from langchain import load_summarize_chain, PromptTemplate"
   ]
  },
  {
   "cell_type": "code",
   "execution_count": 9,
   "metadata": {},
   "outputs": [
    {
     "data": {
      "text/plain": [
       "\" This document outlines the terms of a subscription agreement between Subscriber (district/school or organization) and Raptor Technologies LLC (Raptor) for access to Raptor's Subscription Services. The agreement grants Subscriber a limited, non-exclusive license to use the services in accordance with the agreement and applicable laws. Confidential information provided by Raptor must be kept confidential and not disclosed to third parties without prior written consent. Individual's personally identifying information obtained through the services must not be disclosed except as required by law or in the ordinary course of business. Subscriber is responsible for providing its own Internet access and equipment to use the services, and fees are payable annually in advance. The agreement has an initial term of one year, with automatic renewal unless written notice of non-renewal is given.\\n\\nRaptor disclaims all responsibility for determinations of an individual’s registered sex offender status or custom alert status based on the information conveyed in connection with the Subscription Services. Subscriber is solely responsible for such determinations and understands that information provided by Raptor is not intended to substitute for the determinations made by Subscriber and its employees and contractors.\\n\\nThe agreement may be amended only pursuant to a written agreement between the Parties. All terms and conditions of this Agreement shall be binding upon, inure to the benefit of, and be enforceable by, the Parties and their respective successors and permitted assigns. Raptor will not be in default of this Agreement for any performance failure caused by occurrences beyond Raptor’s reasonable control (including, but not limited to, acts of God). This Agreement does not create any right enforceable by any person not a party. Nothing in this Agreement shall create the relationship of partners or principal-agent between the parties. Subscriber may not assign this Agreement without the prior written consent of Raptor. The waiver or failure of Raptor to exercise in any respect any right provided for under this Agreement shall not be deemed a waiver of any further right under this Agreement.\\n\\nFor written notices, please contact Raptor Technologies, LLC at 631 West 22nd Street, Houston, Texas 77008.\\n\\nIn witness whereof, your organization agrees to be bound by the terms of this Agreement as evidenced by the signature of the organization’s duly authorized representative below.\\n\\nSubscriber: _____________________________\\nName of District/ School /Organization\\n\\nSignature: _____________________________\\nPrinted Name: ____________ _____________\\nTitle: ______ __________ ________________ _\\nAddress : _____ _______ __________________\""
      ]
     },
     "execution_count": 9,
     "metadata": {},
     "output_type": "execute_result"
    }
   ],
   "source": [
    "from langchain.chains.summarize import load_summarize_chain\n",
    "prompt_template = \"\"\"Write a concise summary of the following:\n",
    "\"{text}\"\n",
    "CONCISE SUMMARY:\"\"\"\n",
    "prompt = PromptTemplate.from_template(prompt_template)\n",
    "\n",
    "chain = load_summarize_chain(llm, chain_type=\"refine\")\n",
    "chain.run(split_docs)"
   ]
  },
  {
   "cell_type": "code",
   "execution_count": null,
   "metadata": {},
   "outputs": [],
   "source": []
  }
 ],
 "metadata": {
  "kernelspec": {
   "display_name": "base",
   "language": "python",
   "name": "python3"
  },
  "language_info": {
   "codemirror_mode": {
    "name": "ipython",
    "version": 3
   },
   "file_extension": ".py",
   "mimetype": "text/x-python",
   "name": "python",
   "nbconvert_exporter": "python",
   "pygments_lexer": "ipython3",
   "version": "3.11.8"
  }
 },
 "nbformat": 4,
 "nbformat_minor": 2
}
